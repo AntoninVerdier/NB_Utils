{
 "cells": [
  {
   "cell_type": "code",
   "execution_count": 13,
   "metadata": {},
   "outputs": [],
   "source": [
    "import os\n",
    "import librosa\n",
    "import numpy as np \n",
    "import soundfile as sf"
   ]
  },
  {
   "cell_type": "code",
   "execution_count": 18,
   "metadata": {},
   "outputs": [],
   "source": [
    "root = 'output/music'\n",
    "savefolder = 'splitted'\n",
    "\n",
    "if not os.path.exists(savefolder):\n",
    "    os.makedirs(savefolder)\n",
    "\n",
    "\n",
    "for file in os.listdir(root):\n",
    "    sample, sr = librosa.load(os.path.join(root, file), sr=16000)\n",
    "    idx_split = np.arange(0, sample.shape[0], int(sr)/2).astype(int)\n",
    "    samples = np.split(sample, idx_split[1:])[:-1]\n",
    "    for i, s in enumerate(samples):\n",
    "        sf.write(os.path.join(savefolder, '{}_{}.wav'.format(file, i)), s, samplerate=16000)"
   ]
  }
 ],
 "metadata": {
  "kernelspec": {
   "display_name": "Python 3.8.8 ('kaggle')",
   "language": "python",
   "name": "python3"
  },
  "language_info": {
   "codemirror_mode": {
    "name": "ipython",
    "version": 3
   },
   "file_extension": ".py",
   "mimetype": "text/x-python",
   "name": "python",
   "nbconvert_exporter": "python",
   "pygments_lexer": "ipython3",
   "version": "3.8.8"
  },
  "orig_nbformat": 4,
  "vscode": {
   "interpreter": {
    "hash": "e4b0d32404a4cd00f3435e668e48498a659a32bb73b3e0dce7b7dae0b97b9556"
   }
  }
 },
 "nbformat": 4,
 "nbformat_minor": 2
}
