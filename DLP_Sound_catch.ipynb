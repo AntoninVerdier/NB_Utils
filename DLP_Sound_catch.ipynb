{
 "cells": [
  {
   "cell_type": "code",
   "execution_count": 1,
   "id": "1db61c1f",
   "metadata": {},
   "outputs": [],
   "source": [
    "import os \n",
    "import re\n",
    "import numpy as np\n",
    "import scipy.io as sio\n",
    "import matplotlib.pyplot as plt"
   ]
  },
  {
   "cell_type": "code",
   "execution_count": 6,
   "id": "4e2b0072",
   "metadata": {},
   "outputs": [
    {
     "name": "stdout",
     "output_type": "stream",
     "text": [
      "M786656\n",
      "1.0 8\n",
      "2.0 8\n",
      "1.0 8\n",
      "1.0 8\n",
      "1.0 8\n",
      "2.0 8\n",
      "1.0 8\n",
      "0.0 8\n",
      "3.0 8\n",
      "1.0 8\n",
      "1.0 8\n",
      "1.0 8\n",
      "2.0 8\n",
      "1.0 8\n",
      "1.0 8\n",
      "0.0 8\n",
      "39\n",
      "25.0\n",
      "[0.125, 0.25, 0.125, 0.125, 0.125, 0.25, 0.125, 0.0, 0.375, 0.125, 0.125, 0.125, 0.25, 0.125, 0.125, 0.0]\n"
     ]
    },
    {
     "data": {
      "image/png": "[encoded data removed]",
      "text/plain": [
       "<Figure size 432x288 with 1 Axes>"
      ]
     },
     "metadata": {
      "needs_background": "light"
     },
     "output_type": "display_data"
    }
   ],
   "source": [
    "rootdir = '/home/anverdie/share/gaia/Data/Optogenetic'\n",
    "pattern = re.compile('M[0-9]{6}')\n",
    "mice = [os.path.join(rootdir, path) for path in os.listdir(rootdir) if pattern.match(path)]\n",
    "mice = ['/home/anverdie/share/gaia/Data/Optogenetic/M786656/']\n",
    "tag = 'Catch_frequency'\n",
    "\n",
    "dats = []\n",
    "for mouse in mice:\n",
    "    mouse_id = os.path.basename(os.path.normpath(mouse))\n",
    "    print(mouse_id)\n",
    "\n",
    "    paths = [os.path.join(mouse, path, 'Stims.mat') for path in os.listdir(mouse)]\n",
    "    datafiles = [sio.loadmat(path) for path in paths if os.path.exists(path) and tag in path]\n",
    "    \n",
    "    if len(datafiles):\n",
    "        # Get sneakpeak into evolution \n",
    "        corrs, stims, outs = [], [], []\n",
    "        for i, data in enumerate(datafiles):\n",
    "            \n",
    "            stim = data['ExperimentInfo']['TrialSequence'][0][0][0]\n",
    "            corr = data['ExperimentInfo']['Correct'][0][0][0]\n",
    "            out = data['ExperimentInfo']['OutComeTrials'][0][0][0]\n",
    "            \n",
    "            stims.append(stim)\n",
    "            corrs.append(corr)\n",
    "            outs.append(out)\n",
    "        \n",
    "        stims = np.array([i for s in stims for i in s])[-640:]\n",
    "        corrs = np.array([i for s in corrs for i in s])[-640:]\n",
    "        outs = np.array([i for s in outs for i in s])[-640:]\n",
    "        \n",
    "        scores = {}\n",
    "        for t in np.arange(3, 19):\n",
    "            curr_stim = np.where(stims == t)[0]\n",
    "            scores[t] = np.sum(corrs[curr_stim])/len(curr_stim)\n",
    "            print(len(curr_stim)-np.sum(corrs[curr_stim]), len(curr_stim))\n",
    "                \n",
    "        scs = [1-scores[k] for k in scores]\n",
    "    \n",
    "        idx_gos = np.where(stims == 1)[0]\n",
    "        idx_blank = np.where(stims == 0)[0]\n",
    "        \n",
    "        print(np.sum(corrs[idx_blank]))\n",
    "        print(len(idx_blank) - np.sum(corrs[idx_blank]))\n",
    "        \n",
    "        print(scs)\n",
    "        \n",
    "        blank_lvl = 1 - np.sum(corrs[idx_blank]/len(idx_blank))\n",
    "        plt.plot(scs)\n",
    "        plt.hlines(blank_lvl, 0, len(scs), color='red')\n",
    "        plt.ylim((0, 1))\n",
    "\n",
    "    \n",
    "plt.savefig('658.svg')"
   ]
  },
  {
   "cell_type": "code",
   "execution_count": 30,
   "id": "81981b42",
   "metadata": {},
   "outputs": [
    {
     "name": "stdout",
     "output_type": "stream",
     "text": [
      "0.31760576962359227\n"
     ]
    }
   ],
   "source": [
    "from scipy import stats\n",
    "data = [\n",
    "    [8, 28],\n",
    "    [46, 274]\n",
    "]\n",
    "\n",
    "chi2_statistic, p_value, dof, ex = stats.chi2_contingency( data )\n",
    "print(p_value)"
   ]
  }
 ],
 "metadata": {
  "kernelspec": {
   "display_name": "kaggle",
   "language": "python",
   "name": "kaggle"
  },
  "language_info": {
   "codemirror_mode": {
    "name": "ipython",
    "version": 3
   },
   "file_extension": ".py",
   "mimetype": "text/x-python",
   "name": "python",
   "nbconvert_exporter": "python",
   "pygments_lexer": "ipython3",
   "version": "3.8.8"
  }
 },
 "nbformat": 4,
 "nbformat_minor": 5
}
