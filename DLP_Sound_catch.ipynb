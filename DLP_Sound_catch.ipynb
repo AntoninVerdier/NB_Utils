{
 "cells": [
  {
   "cell_type": "code",
   "execution_count": 6,
   "id": "440a646b",
   "metadata": {},
   "outputs": [],
   "source": [
    "import os \n",
    "import re\n",
    "import numpy as np\n",
    "import natsort as n\n",
    "import scipy.io as sio\n",
    "import matplotlib.pyplot as plt"
   ]
  },
  {
   "cell_type": "code",
   "execution_count": 11,
   "id": "6b3ec183",
   "metadata": {
    "scrolled": true
   },
   "outputs": [
    {
     "name": "stdout",
     "output_type": "stream",
     "text": [
      "M786656\n",
      "(960,)\n",
      "0.0 8\n",
      "3.0 8\n",
      "0.0 8\n",
      "0.0 8\n",
      "2.0 8\n",
      "3.0 8\n",
      "4.0 8\n",
      "1.0 8\n",
      "1.0 8\n",
      "2.0 8\n",
      "3.0 8\n",
      "1.0 8\n",
      "1.0 8\n",
      "2.0 8\n",
      "2.0 8\n",
      "4.0 8\n",
      "55\n",
      "41.0\n",
      "[0.0, 0.375, 0.0, 0.0, 0.25, 0.375, 0.5, 0.125, 0.125, 0.25, 0.375, 0.125, 0.125, 0.25, 0.25, 0.5]\n"
     ]
    },
    {
     "data": {
      "image/png": "[encoded data removed]",
      "text/plain": [
       "<Figure size 432x288 with 1 Axes>"
      ]
     },
     "metadata": {
      "needs_background": "light"
     },
     "output_type": "display_data"
    }
   ],
   "source": [
    "rootdir = '/home/anverdie/Documents/Analysis'\n",
    "pattern = re.compile('M[0-9]{6}')\n",
    "mice = [os.path.join(rootdir, path) for path in os.listdir(rootdir) if pattern.match(path)]\n",
    "mice = ['/home/anverdie/Documents/Analysis/M786656/']\n",
    "tag = 'Catch_frequency'\n",
    "\n",
    "dats = []\n",
    "for mouse in mice:\n",
    "    mouse_id = os.path.basename(os.path.normpath(mouse))\n",
    "    print(mouse_id)\n",
    "\n",
    "    paths = [os.path.join(mouse, path, 'Stims.mat') for path in os.listdir(mouse)]\n",
    "    datafiles = [sio.loadmat(path) for path in paths if os.path.exists(path) and tag in path and '21-Jul' in path]\n",
    "    \n",
    "    if len(datafiles):\n",
    "        # Get sneakpeak into evolution \n",
    "        corrs, stims, outs = [], [], []\n",
    "        for i, data in enumerate(datafiles):\n",
    "            \n",
    "            stim = data['ExperimentInfo']['TrialSequence'][0][0][0]\n",
    "            corr = data['ExperimentInfo']['Correct'][0][0][0]\n",
    "            out = data['ExperimentInfo']['OutComeTrials'][0][0][0]\n",
    "            \n",
    "            stims.append(stim)\n",
    "            corrs.append(corr)\n",
    "            outs.append(out)\n",
    "        \n",
    "        stims = np.array([i for s in stims for i in s])[:960]\n",
    "        corrs = np.array([i for s in corrs for i in s])[:960]\n",
    "        outs = np.array([i for s in outs for i in s])[:960]\n",
    "        \n",
    "        print(stims.shape)\n",
    "        scores = {}\n",
    "        for t in np.arange(3, 19):\n",
    "            curr_stim = np.where(stims == t)[0]\n",
    "            scores[t] = np.sum(corrs[curr_stim])/len(curr_stim)\n",
    "            print(len(curr_stim)-np.sum(corrs[curr_stim]), len(curr_stim))\n",
    "                \n",
    "        scs = [1-scores[k] for k in scores]\n",
    "    \n",
    "        idx_gos = np.where(stims == 1)[0]\n",
    "        idx_blank = np.where(stims == 0)[0]\n",
    "        \n",
    "        print(np.sum(corrs[idx_blank]))\n",
    "        print(len(idx_blank) - np.sum(corrs[idx_blank]))\n",
    "        \n",
    "        print(scs)\n",
    "        \n",
    "        blank_lvl = 1 - np.sum(corrs[idx_blank]/len(idx_blank))\n",
    "        plt.plot(scs)\n",
    "        plt.hlines(blank_lvl, 0, len(scs), color='red')\n",
    "        plt.ylim((0, 1))\n",
    "\n",
    "    \n",
    "plt.savefig('656.svg')"
   ]
  },
  {
   "cell_type": "code",
   "execution_count": 10,
   "id": "cd20a24a",
   "metadata": {
    "scrolled": true
   },
   "outputs": [
    {
     "name": "stdout",
     "output_type": "stream",
     "text": [
      "M786658\n",
      "(1280,)\n",
      "2.0 8\n",
      "1.0 8\n",
      "2.0 8\n",
      "2.0 8\n",
      "3.0 8\n",
      "0.0 8\n",
      "1.0 8\n",
      "1.0 8\n",
      "0.0 8\n",
      "0.0 8\n",
      "2.0 8\n",
      "5.0 8\n",
      "1.0 8\n",
      "0.0 8\n",
      "3.0 8\n",
      "3.0 8\n",
      "106\n",
      "22.0\n",
      "[0.25, 0.125, 0.25, 0.25, 0.375, 0.0, 0.125, 0.125, 0.0, 0.0, 0.25, 0.625, 0.125, 0.0, 0.375, 0.375]\n"
     ]
    },
    {
     "data": {
      "image/png": "[encoded data removed]",
      "text/plain": [
       "<Figure size 432x288 with 1 Axes>"
      ]
     },
     "metadata": {
      "needs_background": "light"
     },
     "output_type": "display_data"
    }
   ],
   "source": [
    "rootdir = '/home/anverdie/Documents/Analysis'\n",
    "pattern = re.compile('M[0-9]{6}')\n",
    "mice = [os.path.join(rootdir, path) for path in os.listdir(rootdir) if pattern.match(path)]\n",
    "mice = ['/home/anverdie/Documents/Analysis/M786658/']\n",
    "tag = 'Catch_frequency'\n",
    "\n",
    "dats = []\n",
    "for mouse in mice:\n",
    "    mouse_id = os.path.basename(os.path.normpath(mouse))\n",
    "    print(mouse_id)\n",
    "\n",
    "    paths = [os.path.join(mouse, path, 'Stims.mat') for path in os.listdir(mouse)]\n",
    "    datafiles = [sio.loadmat(path) for path in paths if os.path.exists(path) and tag in path and '21-Jul' in path]\n",
    "    \n",
    "    if len(datafiles):\n",
    "        # Get sneakpeak into evolution \n",
    "        corrs, stims, outs = [], [], []\n",
    "        for i, data in enumerate(datafiles):\n",
    "            \n",
    "            stim = data['ExperimentInfo']['TrialSequence'][0][0][0]\n",
    "            corr = data['ExperimentInfo']['Correct'][0][0][0]\n",
    "            out = data['ExperimentInfo']['OutComeTrials'][0][0][0]\n",
    "            \n",
    "            stims.append(stim)\n",
    "            corrs.append(corr)\n",
    "            outs.append(out)\n",
    "        \n",
    "        stims = np.array([i for s in stims for i in s])\n",
    "        corrs = np.array([i for s in corrs for i in s])\n",
    "        outs = np.array([i for s in outs for i in s])\n",
    "        \n",
    "        print(stims.shape)\n",
    "        scores = {}\n",
    "        for t in np.arange(3, 19):\n",
    "            curr_stim = np.where(stims == t)[0]\n",
    "            scores[t] = np.sum(corrs[curr_stim])/len(curr_stim)\n",
    "            print(len(curr_stim)-np.sum(corrs[curr_stim]), len(curr_stim))\n",
    "                \n",
    "        scs = [1-scores[k] for k in scores]\n",
    "    \n",
    "        idx_gos = np.where(stims == 1)[0]\n",
    "        idx_blank = np.where(stims == 0)[0]\n",
    "        \n",
    "        print(np.sum(corrs[idx_blank]))\n",
    "        print(len(idx_blank) - np.sum(corrs[idx_blank]))\n",
    "        \n",
    "        print(scs)\n",
    "        \n",
    "        blank_lvl = 1 - np.sum(corrs[idx_blank]/len(idx_blank))\n",
    "        plt.plot(scs)\n",
    "        plt.hlines(blank_lvl, 0, len(scs), color='red')\n",
    "        plt.ylim((0, 1))\n",
    "\n",
    "    \n",
    "plt.savefig('658.svg')"
   ]
  },
  {
   "cell_type": "code",
   "execution_count": 9,
   "id": "255bd403",
   "metadata": {},
   "outputs": [
    {
     "ename": "FileNotFoundError",
     "evalue": "[Errno 2] No such file or directory: '/home/pouple/PhD/Data/Analysis'",
     "output_type": "error",
     "traceback": [
      "\u001b[0;31m---------------------------------------------------------------------------\u001b[0m",
      "\u001b[0;31mFileNotFoundError\u001b[0m                         Traceback (most recent call last)",
      "\u001b[0;32m<ipython-input-9-ae726ac0f7e8>\u001b[0m in \u001b[0;36m<module>\u001b[0;34m\u001b[0m\n\u001b[1;32m      1\u001b[0m \u001b[0mrootdir\u001b[0m \u001b[0;34m=\u001b[0m \u001b[0;34m'/home/pouple/PhD/Data/Analysis'\u001b[0m\u001b[0;34m\u001b[0m\u001b[0;34m\u001b[0m\u001b[0m\n\u001b[1;32m      2\u001b[0m \u001b[0mpattern\u001b[0m \u001b[0;34m=\u001b[0m \u001b[0mre\u001b[0m\u001b[0;34m.\u001b[0m\u001b[0mcompile\u001b[0m\u001b[0;34m(\u001b[0m\u001b[0;34m'M[0-9]{6}'\u001b[0m\u001b[0;34m)\u001b[0m\u001b[0;34m\u001b[0m\u001b[0;34m\u001b[0m\u001b[0m\n\u001b[0;32m----> 3\u001b[0;31m \u001b[0mmice\u001b[0m \u001b[0;34m=\u001b[0m \u001b[0;34m[\u001b[0m\u001b[0mos\u001b[0m\u001b[0;34m.\u001b[0m\u001b[0mpath\u001b[0m\u001b[0;34m.\u001b[0m\u001b[0mjoin\u001b[0m\u001b[0;34m(\u001b[0m\u001b[0mrootdir\u001b[0m\u001b[0;34m,\u001b[0m \u001b[0mpath\u001b[0m\u001b[0;34m)\u001b[0m \u001b[0;32mfor\u001b[0m \u001b[0mpath\u001b[0m \u001b[0;32min\u001b[0m \u001b[0mos\u001b[0m\u001b[0;34m.\u001b[0m\u001b[0mlistdir\u001b[0m\u001b[0;34m(\u001b[0m\u001b[0mrootdir\u001b[0m\u001b[0;34m)\u001b[0m \u001b[0;32mif\u001b[0m \u001b[0mpattern\u001b[0m\u001b[0;34m.\u001b[0m\u001b[0mmatch\u001b[0m\u001b[0;34m(\u001b[0m\u001b[0mpath\u001b[0m\u001b[0;34m)\u001b[0m\u001b[0;34m]\u001b[0m\u001b[0;34m\u001b[0m\u001b[0;34m\u001b[0m\u001b[0m\n\u001b[0m\u001b[1;32m      4\u001b[0m \u001b[0mmice\u001b[0m \u001b[0;34m=\u001b[0m \u001b[0;34m[\u001b[0m\u001b[0;34m'/home/pouple/PhD/Data/Analysis/M786658/'\u001b[0m\u001b[0;34m]\u001b[0m\u001b[0;34m\u001b[0m\u001b[0;34m\u001b[0m\u001b[0m\n\u001b[1;32m      5\u001b[0m \u001b[0mtag\u001b[0m \u001b[0;34m=\u001b[0m \u001b[0;34m'Catch_frequency'\u001b[0m\u001b[0;34m\u001b[0m\u001b[0;34m\u001b[0m\u001b[0m\n",
      "\u001b[0;31mFileNotFoundError\u001b[0m: [Errno 2] No such file or directory: '/home/pouple/PhD/Data/Analysis'"
     ]
    }
   ],
   "source": [
    "rootdir = '/home/pouple/PhD/Data/Analysis'\n",
    "pattern = re.compile('M[0-9]{6}')\n",
    "mice = [os.path.join(rootdir, path) for path in os.listdir(rootdir) if pattern.match(path)]\n",
    "mice = ['/home/pouple/PhD/Data/Analysis/M786658/']\n",
    "tag = 'Catch_frequency'\n",
    "\n",
    "dats = []\n",
    "for mouse in mice:\n",
    "    mouse_id = os.path.basename(os.path.normpath(mouse))\n",
    "    print(mouse_id)\n",
    "\n",
    "    paths = [os.path.join(mouse, path, 'Stims.mat') for path in os.listdir(mouse)]\n",
    "    for p in (n.natsorted(paths)):\n",
    "        print(p)\n",
    "    datafiles = [sio.loadmat(path) for path in n.natsorted(paths) if os.path.exists(path) and tag in path]\n",
    "    \n",
    "    if len(datafiles):\n",
    "        # Get sneakpeak into evolution \n",
    "        corrs, stims, outs = [], [], []\n",
    "        for i, data in enumerate(datafiles):\n",
    "            \n",
    "            stim = data['ExperimentInfo']['TrialSequence'][0][0][0]\n",
    "            corr = data['ExperimentInfo']['Correct'][0][0][0]\n",
    "            out = data['ExperimentInfo']['OutComeTrials'][0][0][0]\n",
    "            \n",
    "            stims.append(stim)\n",
    "            corrs.append(corr)\n",
    "            outs.append(out)\n",
    "        \n",
    "        stims = np.array([i for s in stims for i in s])\n",
    "        corrs = np.array([i for s in corrs for i in s])\n",
    "        outs = np.array([i for s in outs for i in s])\n",
    "        \n",
    "        idx_gos = np.where(stims == 1)[0]\n",
    "        idx_nogos = np.where(stims == 2)[0]\n",
    "        idx_blank = np.where(stims == 0)[0]\n",
    "        \n",
    "        idx_to_remove = np.concatenate((idx_gos, idx_nogos, idx_blank))\n",
    "        \n",
    "        intermediate_stims = np.delete(stims, idx_to_remove)\n",
    "        intermediate_corrs = np.delete(corrs, idx_to_remove)\n",
    "        \n",
    "        print(intermediate_corrs)\n",
    "        \n",
    "        licks = []\n",
    "        for i in range(int(len(intermediate_corrs)/16) - 1):\n",
    "            licks.append(np.sum(intermediate_corrs[16*i:16*(i+1)]))\n",
    "            \n",
    "        \n",
    "        plt.plot(licks)\n",
    "        plt.show()\n"
   ]
  },
  {
   "cell_type": "code",
   "execution_count": null,
   "id": "b928a34b",
   "metadata": {},
   "outputs": [],
   "source": [
    "from scipy import stats\n",
    "data = [\n",
    "    [0, 8],\n",
    "    [41, 55]\n",
    "]\n",
    "\n",
    "chi2_statistic, p_value, dof, ex = stats.chi2_contingency( data )\n",
    "print(p_value)"
   ]
  }
 ],
 "metadata": {
  "kernelspec": {
   "display_name": "kaggle",
   "language": "python",
   "name": "kaggle"
  },
  "language_info": {
   "codemirror_mode": {
    "name": "ipython",
    "version": 3
   },
   "file_extension": ".py",
   "mimetype": "text/x-python",
   "name": "python",
   "nbconvert_exporter": "python",
   "pygments_lexer": "ipython3",
   "version": "3.8.8"
  }
 },
 "nbformat": 4,
 "nbformat_minor": 5
}
