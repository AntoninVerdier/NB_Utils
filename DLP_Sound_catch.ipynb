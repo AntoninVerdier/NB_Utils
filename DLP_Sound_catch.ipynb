{
 "cells": [
  {
   "cell_type": "code",
   "execution_count": 32,
   "metadata": {},
   "outputs": [],
   "source": [
    "import os \n",
    "import re\n",
    "import numpy as np\n",
    "import natsort as n\n",
    "import scipy.io as sio\n",
    "import matplotlib.pyplot as plt"
   ]
  },
  {
   "cell_type": "code",
   "execution_count": 12,
   "metadata": {
    "scrolled": true
   },
   "outputs": [
    {
     "name": "stdout",
     "output_type": "stream",
     "text": [
      "M786656\n",
      "(960,)\n",
      "0.0 8\n",
      "3.0 8\n",
      "0.0 8\n",
      "0.0 8\n",
      "2.0 8\n",
      "3.0 8\n",
      "4.0 8\n",
      "1.0 8\n",
      "1.0 8\n",
      "2.0 8\n",
      "3.0 8\n",
      "1.0 8\n",
      "1.0 8\n",
      "2.0 8\n",
      "2.0 8\n",
      "4.0 8\n",
      "55\n",
      "41.0\n",
      "[0.0, 0.375, 0.0, 0.0, 0.25, 0.375, 0.5, 0.125, 0.125, 0.25, 0.375, 0.125, 0.125, 0.25, 0.25, 0.5]\n"
     ]
    },
    {
     "data": {
      "image/png": "[encoded data removed]",
      "text/plain": [
       "<Figure size 432x288 with 1 Axes>"
      ]
     },
     "metadata": {
      "needs_background": "light"
     },
     "output_type": "display_data"
    }
   ],
   "source": [
    "rootdir = '/home/pouple/PhD/Data/Analysis'\n",
    "pattern = re.compile('M[0-9]{6}')\n",
    "mice = [os.path.join(rootdir, path) for path in os.listdir(rootdir) if pattern.match(path)]\n",
    "mice = ['/home/pouple/PhD/Data/Analysis/M786656/']\n",
    "tag = 'Catch_frequency'\n",
    "\n",
    "dats = []\n",
    "for mouse in mice:\n",
    "    mouse_id = os.path.basename(os.path.normpath(mouse))\n",
    "    print(mouse_id)\n",
    "\n",
    "    paths = [os.path.join(mouse, path, 'Stims.mat') for path in os.listdir(mouse)]\n",
    "    datafiles = [sio.loadmat(path) for path in paths if os.path.exists(path) and tag in path and '21-Jul' in path]\n",
    "    \n",
    "    if len(datafiles):\n",
    "        # Get sneakpeak into evolution \n",
    "        corrs, stims, outs = [], [], []\n",
    "        for i, data in enumerate(datafiles):\n",
    "            \n",
    "            stim = data['ExperimentInfo']['TrialSequence'][0][0][0]\n",
    "            corr = data['ExperimentInfo']['Correct'][0][0][0]\n",
    "            out = data['ExperimentInfo']['OutComeTrials'][0][0][0]\n",
    "            \n",
    "            stims.append(stim)\n",
    "            corrs.append(corr)\n",
    "            outs.append(out)\n",
    "        \n",
    "        stims = np.array([i for s in stims for i in s])[:960]\n",
    "        corrs = np.array([i for s in corrs for i in s])[:960]\n",
    "        outs = np.array([i for s in outs for i in s])[:960]\n",
    "        \n",
    "        print(stims.shape)\n",
    "        scores = {}\n",
    "        for t in np.arange(3, 19):\n",
    "            curr_stim = np.where(stims == t)[0]\n",
    "            scores[t] = np.sum(corrs[curr_stim])/len(curr_stim)\n",
    "            print(len(curr_stim)-np.sum(corrs[curr_stim]), len(curr_stim))\n",
    "                \n",
    "        scs = [1-scores[k] for k in scores]\n",
    "    \n",
    "        idx_gos = np.where(stims == 1)[0]\n",
    "        idx_blank = np.where(stims == 0)[0]\n",
    "        \n",
    "        print(np.sum(corrs[idx_blank]))\n",
    "        print(len(idx_blank) - np.sum(corrs[idx_blank]))\n",
    "        \n",
    "        print(scs)\n",
    "        \n",
    "        blank_lvl = 1 - np.sum(corrs[idx_blank]/len(idx_blank))\n",
    "        plt.plot(scs)\n",
    "        plt.hlines(blank_lvl, 0, len(scs), color='red')\n",
    "        plt.ylim((0, 1))\n",
    "\n",
    "    \n",
    "plt.savefig('656.svg')"
   ]
  },
  {
   "cell_type": "code",
   "execution_count": 14,
   "metadata": {
    "scrolled": true
   },
   "outputs": [
    {
     "name": "stdout",
     "output_type": "stream",
     "text": [
      "M786658\n",
      "(1280,)\n",
      "2.0 8\n",
      "1.0 8\n",
      "2.0 8\n",
      "2.0 8\n",
      "3.0 8\n",
      "0.0 8\n",
      "1.0 8\n",
      "1.0 8\n",
      "0.0 8\n",
      "0.0 8\n",
      "2.0 8\n",
      "5.0 8\n",
      "1.0 8\n",
      "0.0 8\n",
      "3.0 8\n",
      "3.0 8\n",
      "106\n",
      "22.0\n",
      "[0.25, 0.125, 0.25, 0.25, 0.375, 0.0, 0.125, 0.125, 0.0, 0.0, 0.25, 0.625, 0.125, 0.0, 0.375, 0.375]\n"
     ]
    },
    {
     "data": {
      "image/png": "[encoded data removed]",
      "text/plain": [
       "<Figure size 432x288 with 1 Axes>"
      ]
     },
     "metadata": {
      "needs_background": "light"
     },
     "output_type": "display_data"
    }
   ],
   "source": [
    "rootdir = '/home/pouple/PhD/Data/Analysis'\n",
    "pattern = re.compile('M[0-9]{6}')\n",
    "mice = [os.path.join(rootdir, path) for path in os.listdir(rootdir) if pattern.match(path)]\n",
    "mice = ['/home/pouple/PhD/Data/Analysis/M786658/']\n",
    "tag = 'Catch_frequency'\n",
    "\n",
    "dats = []\n",
    "for mouse in mice:\n",
    "    mouse_id = os.path.basename(os.path.normpath(mouse))\n",
    "    print(mouse_id)\n",
    "\n",
    "    paths = [os.path.join(mouse, path, 'Stims.mat') for path in os.listdir(mouse)]\n",
    "    datafiles = [sio.loadmat(path) for path in paths if os.path.exists(path) and tag in path and '21-Jul' in path]\n",
    "    \n",
    "    if len(datafiles):\n",
    "        # Get sneakpeak into evolution \n",
    "        corrs, stims, outs = [], [], []\n",
    "        for i, data in enumerate(datafiles):\n",
    "            \n",
    "            stim = data['ExperimentInfo']['TrialSequence'][0][0][0]\n",
    "            corr = data['ExperimentInfo']['Correct'][0][0][0]\n",
    "            out = data['ExperimentInfo']['OutComeTrials'][0][0][0]\n",
    "            \n",
    "            stims.append(stim)\n",
    "            corrs.append(corr)\n",
    "            outs.append(out)\n",
    "        \n",
    "        stims = np.array([i for s in stims for i in s])\n",
    "        corrs = np.array([i for s in corrs for i in s])\n",
    "        outs = np.array([i for s in outs for i in s])\n",
    "        \n",
    "        print(stims.shape)\n",
    "        scores = {}\n",
    "        for t in np.arange(3, 19):\n",
    "            curr_stim = np.where(stims == t)[0]\n",
    "            scores[t] = np.sum(corrs[curr_stim])/len(curr_stim)\n",
    "            print(len(curr_stim)-np.sum(corrs[curr_stim]), len(curr_stim))\n",
    "                \n",
    "        scs = [1-scores[k] for k in scores]\n",
    "    \n",
    "        idx_gos = np.where(stims == 1)[0]\n",
    "        idx_blank = np.where(stims == 0)[0]\n",
    "        \n",
    "        print(np.sum(corrs[idx_blank]))\n",
    "        print(len(idx_blank) - np.sum(corrs[idx_blank]))\n",
    "        \n",
    "        print(scs)\n",
    "        \n",
    "        blank_lvl = 1 - np.sum(corrs[idx_blank]/len(idx_blank))\n",
    "        plt.plot(scs)\n",
    "        plt.hlines(blank_lvl, 0, len(scs), color='red')\n",
    "        plt.ylim((0, 1))\n",
    "\n",
    "    \n",
    "plt.savefig('656.svg')"
   ]
  },
  {
   "cell_type": "code",
   "execution_count": 37,
   "metadata": {},
   "outputs": [
    {
     "name": "stdout",
     "output_type": "stream",
     "text": [
      "M786658\n",
      "/home/pouple/PhD/Data/Analysis/M786658/Catch_frequency_GovsSounds_21-Jul-2022_124549/Stims.mat\n",
      "/home/pouple/PhD/Data/Analysis/M786658/Catch_frequency_GovsSounds_21-Jul-2022_133839/Stims.mat\n",
      "/home/pouple/PhD/Data/Analysis/M786658/Catch_frequency_GovsSounds_22-Jul-2022_115602/Stims.mat\n",
      "/home/pouple/PhD/Data/Analysis/M786658/Catch_frequency_GovsSounds_22-Jul-2022_124758/Stims.mat\n",
      "/home/pouple/PhD/Data/Analysis/M786658/Catch_frequency_GovsSounds_25-Jul-2022_122546/Stims.mat\n",
      "/home/pouple/PhD/Data/Analysis/M786658/Catch_frequency_GovsSounds_26-Jul-2022_125721/Stims.mat\n",
      "/home/pouple/PhD/Data/Analysis/M786658/Catch_frequency_GovsSounds_26-Jul-2022_135308/Stims.mat\n",
      "/home/pouple/PhD/Data/Analysis/M786658/Catch_frequency_GovsSounds_26-Jul-2022_135411/Stims.mat\n",
      "/home/pouple/PhD/Data/Analysis/M786658/Catch_frequency_GovsSounds_27-Jul-2022_150207/Stims.mat\n",
      "/home/pouple/PhD/Data/Analysis/M786658/Catch_frequency_GovsSounds_27-Jul-2022_160612/Stims.mat\n",
      "/home/pouple/PhD/Data/Analysis/M786658/DisCoherence_Controle_GoNoGoWiBlank_30-Jun-2022_150614/Stims.mat\n",
      "/home/pouple/PhD/Data/Analysis/M786658/DisCoherence_GoNoGoWiBlank_01-Jul-2022_154118/Stims.mat\n",
      "/home/pouple/PhD/Data/Analysis/M786658/DisCoherence_GoNoGoWiBlank_04-Jul-2022_105925/Stims.mat\n",
      "/home/pouple/PhD/Data/Analysis/M786658/DisCoherence_GoNoGoWiBlank_04-Jul-2022_162007/Stims.mat\n",
      "/home/pouple/PhD/Data/Analysis/M786658/DisCoherence_GoNoGoWiBlank_05-Jul-2022_105800/Stims.mat\n",
      "/home/pouple/PhD/Data/Analysis/M786658/DisCoherence_GoNoGoWiBlank_06-Jul-2022_110520/Stims.mat\n",
      "/home/pouple/PhD/Data/Analysis/M786658/DisCoherence_GoNoGoWiBlank_07-Jul-2022_110437/Stims.mat\n",
      "/home/pouple/PhD/Data/Analysis/M786658/DisCoherence_GoNoGoWiBlank_08-Jul-2022_113920/Stims.mat\n",
      "/home/pouple/PhD/Data/Analysis/M786658/DisCoherence_GoNoGoWiBlank_17-Jun-2022_155545/Stims.mat\n",
      "/home/pouple/PhD/Data/Analysis/M786658/DisCoherence_GoNoGoWiBlank_20-Jul-2022_111511/Stims.mat\n",
      "/home/pouple/PhD/Data/Analysis/M786658/DisCoherence_GoNoGoWiBlank_20-Jul-2022_112919/Stims.mat\n",
      "/home/pouple/PhD/Data/Analysis/M786658/DisCoherence_GoNoGoWiBlank_20-Jun-2022_154802/Stims.mat\n",
      "/home/pouple/PhD/Data/Analysis/M786658/DisCoherence_GoNoGoWiBlank_21-Jun-2022_161443/Stims.mat\n",
      "/home/pouple/PhD/Data/Analysis/M786658/DisCoherence_GoNoGoWiBlank_22-Jun-2022_154449/Stims.mat\n",
      "/home/pouple/PhD/Data/Analysis/M786658/DisCoherence_GoNoGoWiBlank_23-Jun-2022_162527/Stims.mat\n",
      "/home/pouple/PhD/Data/Analysis/M786658/DisCoherence_GoNoGoWiBlank_24-Jun-2022_184059/Stims.mat\n",
      "/home/pouple/PhD/Data/Analysis/M786658/DisCoherence_GoNoGoWiBlank_26-Jul-2022_122822/Stims.mat\n",
      "/home/pouple/PhD/Data/Analysis/M786658/DisCoherence_GoNoGoWiBlank_27-Jul-2022_143237/Stims.mat\n",
      "/home/pouple/PhD/Data/Analysis/M786658/DisCoherence_GoNoGoWiBlank_27-Jun-2022_152907/Stims.mat\n",
      "/home/pouple/PhD/Data/Analysis/M786658/DisCoherence_GoNoGoWiBlank_28-Jun-2022_133935/Stims.mat\n",
      "/home/pouple/PhD/Data/Analysis/M786658/DisCoherence_GoNoGoWiBlank_29-Jun-2022_161916/Stims.mat\n",
      "/home/pouple/PhD/Data/Analysis/M786658/DisCoherence_GoNoGoWiBlank_30-Jun-2022_140051/Stims.mat\n",
      "/home/pouple/PhD/Data/Analysis/M786658/DisCoherence_GoVsBlank_14-Jun-2022_163956/Stims.mat\n",
      "/home/pouple/PhD/Data/Analysis/M786658/DisCoherence_GoVsBlank_15-Jun-2022_162429/Stims.mat\n",
      "/home/pouple/PhD/Data/Analysis/M786658/DisCoherence_GoVsBlank_16-Jun-2022_153834/Stims.mat\n",
      "/home/pouple/PhD/Data/Analysis/M786658/DisCoherence_GoVsBlank_17-Jun-2022_154221/Stims.mat\n",
      "/home/pouple/PhD/Data/Analysis/M786658/DisCoherence_Psyco_all_11-Jul-2022_155342/Stims.mat\n",
      "/home/pouple/PhD/Data/Analysis/M786658/DisCoherence_Psyco_all_11-Jul-2022_165505/Stims.mat\n",
      "/home/pouple/PhD/Data/Analysis/M786658/DisCoherence_Psyco_all_13-Jul-2022_105849/Stims.mat\n",
      "/home/pouple/PhD/Data/Analysis/M786658/DisCoherence_Psyco_all_13-Jul-2022_115738/Stims.mat\n",
      "/home/pouple/PhD/Data/Analysis/M786658/DisCoherence_Psyco_all_18-Jul-2022_170347/Stims.mat\n",
      "/home/pouple/PhD/Data/Analysis/M786658/DisCoherence_Psyco_all_18-Jul-2022_181019/Stims.mat\n",
      "/home/pouple/PhD/Data/Analysis/M786658/DisCoherence_Psyco_all_19-Jul-2022_130307/Stims.mat\n",
      "/home/pouple/PhD/Data/Analysis/M786658/DisCoherence_Psyco_all_19-Jul-2022_140841/Stims.mat\n",
      "/home/pouple/PhD/Data/Analysis/M786658/DisCoherence_Psyco_all_28-Jul-2022_134922/Stims.mat\n",
      "/home/pouple/PhD/Data/Analysis/M786658/DisCoherence_Psyco_all_28-Jul-2022_144810/Stims.mat\n",
      "/home/pouple/PhD/Data/Analysis/M786658/DisCoherence_Psyco_all_28-Jul-2022_154720/Stims.mat\n",
      "/home/pouple/PhD/Data/Analysis/M786658/DisCoherence_Psyco_allam_01-Aug-2022_094633/Stims.mat\n",
      "/home/pouple/PhD/Data/Analysis/M786658/DisCoherence_Psyco_allam_01-Aug-2022_104519/Stims.mat\n",
      "/home/pouple/PhD/Data/Analysis/M786658/DisCoherence_Psyco_allam_02-Aug-2022_094006/Stims.mat\n",
      "/home/pouple/PhD/Data/Analysis/M786658/DisCoherence_Psyco_allam_02-Aug-2022_103540/Stims.mat\n",
      "/home/pouple/PhD/Data/Analysis/M786658/DisCoherence_Psyco_allam_03-Aug-2022_094942/Stims.mat\n",
      "/home/pouple/PhD/Data/Analysis/M786658/DisCoherence_Psyco_allam_03-Aug-2022_104641/Stims.mat\n",
      "/home/pouple/PhD/Data/Analysis/M786658/DisCoherence_Psyco_allam_29-Jul-2022_130526/Stims.mat\n",
      "/home/pouple/PhD/Data/Analysis/M786658/DisCoherence_Psyco_allam_29-Jul-2022_140019/Stims.mat\n",
      "[1 1 1 0 0 0 1 1 1 1 1 1 1 1 1 1 1 1 1 1 1 0 1 0 1 1 1 1 1 1 1 1 1 1 1 1 1\n",
      " 1 0 0 1 0 1 1 1 1 1 1 1 1 0 0 1 1 1 1 1 1 1 1 0 0 1 1 0 0 0 1 1 0 1 1 1 1\n",
      " 1 0 1 1 1 1 0 1 0 1 1 1 1 1 1 0 1 0 1 1 1 1 1 1 1 0 1 1 1 0 1 0 1 1 1 0 1\n",
      " 1 0 1 1 1 1 1 1 1 1 1 1 1 1 1 1 1 0 1 1 0 1 1 1 0 1 1 0 1 1 1 1 1 1 1 1 1\n",
      " 1 1 1 1 1 1 1 1 1 1 1 1 1 1 1 1 1 1 1 1 1 1 1 1 0 1 1 1 1 0 1 1 1 1 1 1 1\n",
      " 1 1 1 1 1 0 1 1 1 1 1 1 1 1 1 1 1 1 1 1 1 1 1 1 1 1 1 1 1 1 1 1 1 1 1 1 1\n",
      " 1 1 0 1 1 1 1 1 1 1 0 1 1 1 1 1 1 0 1 1 1 1 0 1 1 0 1 1 1 1 1 1 1 1 1 1 1\n",
      " 1 1 1 1 1 1 1 1 1 1 1 0 1 1 1 1 1 0 1 1 1 1 1 0 1 1 1 1 1 1 1 1 0 1 1 1 1\n",
      " 1 1 1 0 1 1 1 1 1 1 1 1 1 1 1 1 0 1 1 1 1 1 1 1 1 1 1 0 1 1 1 1 1 1 1 1 0\n",
      " 1 1 1 1 1 1 1 1 0 1 1 1 1 0 1 1 1 0 1 1 1 1 0 0 1 1 1 1 1 1 1 1 1 1 0 1 0\n",
      " 1 1 1 1 1 1 1 1 1 1 1 1 1 1 1 1 1 1 0 1 1 0 1 0 1 1 1 1 1 1 1 1 1 0 1 0 1\n",
      " 1 1 1 1 1 1 1 1 1 1 1 1 1 1 1 0 1 1 1 1 0 1 0 1 1 1 1 1 0 1 0 1 1 1 1 1 1\n",
      " 1 1 1 1 1 1 1 1 1 1 1 1 1 1 1 1 0 1 1 1 1 1 1 1 1 0 1 1 1 1 1 1 1 1 1 1 1\n",
      " 1 1 1 1 1 1 1 1 1 1 1 0 1 1 1 1 1 1 1 1 1 1 1 1 0 1 1 1 1 1 1 1 1 1 1 1 1\n",
      " 1 0 0 1 1 1 1 1 1 1 1 1 1 1 0 1 1 1 1 1 0 1 0 1 1 1 1 1 1 1 1 1 1 1 1 1 1\n",
      " 1 1 1 1 1 1 1 1 1 1 1 1 1 1 1 1 1 1 0 1 1 1 1 1 1 1 1 1 1 1 1 1 1 1 1 1 1\n",
      " 1 1 1 1 1 1 1 1 1 1 1 1 1 1 1 1 1 1 1 1 1 1 1 1 1 1 1 0 0 1 1 1 1 1 1 1 1\n",
      " 1 1 1 1 1 0 1 1 1 1 1 1 1 1 0 1 0 1 1 1 1 1 1 1 0 1 1 1 1 1 1 1 1 1 1 1 1\n",
      " 1 1 0 1 1 1 0 1 1 0 1 1 1 1 1 0 1 1 1 0 1 1 1 1 1 0 0 1 1 1 0 0 1 1 1 1 0\n",
      " 1]\n"
     ]
    },
    {
     "data": {
      "image/png": "[encoded data removed]",
      "text/plain": [
       "<Figure size 432x288 with 1 Axes>"
      ]
     },
     "metadata": {
      "needs_background": "light"
     },
     "output_type": "display_data"
    }
   ],
   "source": [
    "rootdir = '/home/pouple/PhD/Data/Analysis'\n",
    "pattern = re.compile('M[0-9]{6}')\n",
    "mice = [os.path.join(rootdir, path) for path in os.listdir(rootdir) if pattern.match(path)]\n",
    "mice = ['/home/pouple/PhD/Data/Analysis/M786658/']\n",
    "tag = 'Catch_frequency'\n",
    "\n",
    "dats = []\n",
    "for mouse in mice:\n",
    "    mouse_id = os.path.basename(os.path.normpath(mouse))\n",
    "    print(mouse_id)\n",
    "\n",
    "    paths = [os.path.join(mouse, path, 'Stims.mat') for path in os.listdir(mouse)]\n",
    "    for p in (n.natsorted(paths)):\n",
    "        print(p)\n",
    "    datafiles = [sio.loadmat(path) for path in n.natsorted(paths) if os.path.exists(path) and tag in path]\n",
    "    \n",
    "    if len(datafiles):\n",
    "        # Get sneakpeak into evolution \n",
    "        corrs, stims, outs = [], [], []\n",
    "        for i, data in enumerate(datafiles):\n",
    "            \n",
    "            stim = data['ExperimentInfo']['TrialSequence'][0][0][0]\n",
    "            corr = data['ExperimentInfo']['Correct'][0][0][0]\n",
    "            out = data['ExperimentInfo']['OutComeTrials'][0][0][0]\n",
    "            \n",
    "            stims.append(stim)\n",
    "            corrs.append(corr)\n",
    "            outs.append(out)\n",
    "        \n",
    "        stims = np.array([i for s in stims for i in s])\n",
    "        corrs = np.array([i for s in corrs for i in s])\n",
    "        outs = np.array([i for s in outs for i in s])\n",
    "        \n",
    "        idx_gos = np.where(stims == 1)[0]\n",
    "        idx_nogos = np.where(stims == 2)[0]\n",
    "        idx_blank = np.where(stims == 0)[0]\n",
    "        \n",
    "        idx_to_remove = np.concatenate((idx_gos, idx_nogos, idx_blank))\n",
    "        \n",
    "        intermediate_stims = np.delete(stims, idx_to_remove)\n",
    "        intermediate_corrs = np.delete(corrs, idx_to_remove)\n",
    "        \n",
    "        print(intermediate_corrs)\n",
    "        \n",
    "        licks = []\n",
    "        for i in range(int(len(intermediate_corrs)/16) - 1):\n",
    "            licks.append(np.sum(intermediate_corrs[16*i:16*(i+1)]))\n",
    "            \n",
    "        \n",
    "        plt.plot(licks)\n",
    "        plt.show()\n"
   ]
  },
  {
   "cell_type": "code",
   "execution_count": 13,
   "metadata": {},
   "outputs": [
    {
     "name": "stdout",
     "output_type": "stream",
     "text": [
      "0.04567305364582482\n"
     ]
    }
   ],
   "source": [
    "from scipy import stats\n",
    "data = [\n",
    "    [0, 8],\n",
    "    [41, 55]\n",
    "]\n",
    "\n",
    "chi2_statistic, p_value, dof, ex = stats.chi2_contingency( data )\n",
    "print(p_value)"
   ]
  }
 ],
 "metadata": {
  "kernelspec": {
   "display_name": "kaggle",
   "language": "python",
   "name": "kaggle"
  },
  "language_info": {
   "codemirror_mode": {
    "name": "ipython",
    "version": 3
   },
   "file_extension": ".py",
   "mimetype": "text/x-python",
   "name": "python",
   "nbconvert_exporter": "python",
   "pygments_lexer": "ipython3",
   "version": "3.8.5"
  }
 },
 "nbformat": 4,
 "nbformat_minor": 5
}
