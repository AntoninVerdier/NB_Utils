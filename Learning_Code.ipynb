{
 "cells": [
  {
   "cell_type": "code",
   "execution_count": 8,
   "metadata": {},
   "outputs": [],
   "source": [
    "import os\n",
    "import numpy as np\n",
    "import scipy.io as sio\n",
    "import natsort as n\n",
    "import matplotlib.pyplot as plt"
   ]
  },
  {
   "cell_type": "code",
   "execution_count": 9,
   "metadata": {},
   "outputs": [],
   "source": [
    "def get_mouse_data_and_score(mouseid, tag='Psyco_all_', rootdir='/home/pouple/PhD/Data/Analysis'):\n",
    "    \"\"\" Simple function to extract data from matlab recordings\n",
    "    \"\"\"\n",
    "    \n",
    "    path = [os.path.join(rootdir, 'M' + mouseid, path, 'Stims.mat') for path in os.listdir(os.path.join(rootdir, 'M' + mouseid))]\n",
    "    \n",
    "    datafiles = [sio.loadmat(p) for p in path if os.path.exists(p) and tag in p]\n",
    "    \n",
    "    if len(datafiles):\n",
    "        corrs, stims, outs = [], [], []\n",
    "        for i, data in enumerate(datafiles):\n",
    "\n",
    "            stims.append(data['ExperimentInfo']['TrialSequence'][0][0][0])\n",
    "            corrs.append(data['ExperimentInfo']['Correct'][0][0][0])\n",
    "            outs.append(data['ExperimentInfo']['OutComeTrials'][0][0][0])\n",
    "\n",
    "        stims = np.array([i for s in stims for i in s])\n",
    "        corrs = np.array([i for s in corrs for i in s])\n",
    "        outs = np.array([i for s in outs for i in s])\n",
    "\n",
    "        scores = {}\n",
    "        for t in np.arange(3, 17):\n",
    "            curr_stim = np.where(stims == t)[0]\n",
    "            scores[t] = np.sum(corrs[curr_stim])/len(curr_stim)\n",
    "\n",
    "        scs = [1 - scores[k] for k in scores]\n",
    "\n",
    "        idx_gos = np.where(stims == 1)[0]\n",
    "        idx_nogos = np.where(stims == 2)[0]\n",
    "        idx_blank = np.where(stims == 0)[0]\n",
    "        \n",
    "        go_score = np.sum(corrs[idx_gos])/len(idx_gos)\n",
    "        nogo_score = np.sum(corrs[idx_nogos])/len(idx_nogos)\n",
    "        blank_score = np.sum(corrs[idx_blank])/len(idx_blank)\n",
    "        \n",
    "        scs = [go_score] + scs + [1 - nogo_score]\n",
    "        data = {}\n",
    "        data['raw_scores'] = scores\n",
    "        data['go_score'] = go_score\n",
    "        data['nogo_score'] = nogo_score\n",
    "        data['blank_score'] = blank_score\n",
    "        data['scores'] = scs\n",
    "        \n",
    "       \n",
    "        return data"
   ]
  },
  {
   "cell_type": "code",
   "execution_count": 15,
   "metadata": {},
   "outputs": [],
   "source": [
    "def get_stims(tag, rootdir='/home/pouple/PhD/Data/Analysis'):\n",
    "    \"\"\" Load stims numpy array depending on tag\n",
    "    \"\"\"\n",
    "    stims = [np.load(os.path.join(rootdir, f)) for f in n.natsorted(os.listdir(rootdir)) if tag in f]\n",
    "    names = [f[:-4] for f in n.natsorted(os.listdir(rootdir)) if tag in f]\n",
    "    return stims, names"
   ]
  },
  {
   "cell_type": "code",
   "execution_count": 11,
   "metadata": {},
   "outputs": [],
   "source": [
    "import tensorflow.keras as keras\n",
    "from tensorflow.keras import backend as K\n",
    "from tensorflow.keras import optimizers\n",
    "from tensorflow.keras.models import Sequential, Model\n",
    "from tensorflow.keras.layers import Conv2D, Input, Reshape\n",
    "\n",
    "\n",
    "def blur_stim(stims_to_blur, sigma=np.sqrt(np.log(2)/2), ksize=3):\n",
    "    \"\"\" Default sigma is considering 1px = 150um\n",
    "    \"\"\"\n",
    "    opt = keras.optimizers.Adam(learning_rate=0.0001)\n",
    "    x, y = np.meshgrid(np.linspace(-1, 1, ksize), np.linspace(-1, 1, ksize))\n",
    "    dst = np.sqrt(x*x + y*y)\n",
    "    muu = 0.000\n",
    "    \n",
    "    kernel_weights = np.exp(-((dst-muu)**2 / (2.0 * sigma**2)))\n",
    "    kernel_weights = np.expand_dims(kernel_weights, axis=-1)\n",
    "    kernel_weights = np.repeat(kernel_weights, 1, axis=-1)\n",
    "    kernel_weights = np.expand_dims(kernel_weights, axis=-1)\n",
    "\n",
    "    def gaussian_blur_filter(shape, dtype=None):\n",
    "        f = np.array(kernel_weights)\n",
    "\n",
    "        assert f.shape == shape\n",
    "        return K.variable(f, dtype='float32')\n",
    "\n",
    "    gaussian_blur = Conv2D(1, (ksize, ksize), use_bias=False, kernel_initializer=gaussian_blur_filter, padding='same', trainable=False, name='gaussian_blur')\n",
    "\n",
    "    Blurring_Model = Sequential(\n",
    "        gaussian_blur\n",
    "    )\n",
    "    \n",
    "    blurred_stims = [Blurring_Model(s.reshape(1, 10, 10, 1)).numpy() for s in stims_to_blur]\n",
    "    \n",
    "    return blurred_stims"
   ]
  },
  {
   "cell_type": "code",
   "execution_count": 12,
   "metadata": {
    "scrolled": true
   },
   "outputs": [],
   "source": [
    "# Retrieve data for mouse depending on task\n",
    "m1 = get_mouse_data_and_score('786658', tag='Psyco_all_')\n",
    "m2 = get_mouse_data_and_score('786656', tag='Psyco_all_')\n",
    "\n",
    "m1_am = get_mouse_data_and_score('786658', tag='Psyco_allam_')\n",
    "m2_am = get_mouse_data_and_score('786656', tag='Psyco_allam_')"
   ]
  },
  {
   "cell_type": "code",
   "execution_count": 13,
   "metadata": {},
   "outputs": [
    {
     "data": {
      "text/plain": [
       "(-0.1, 1.1)"
      ]
     },
     "execution_count": 13,
     "metadata": {},
     "output_type": "execute_result"
    },
    {
     "data": {
      "image/png": "[encoded data removed]",
      "text/plain": [
       "<Figure size 1080x288 with 2 Axes>"
      ]
     },
     "metadata": {
      "needs_background": "light"
     },
     "output_type": "display_data"
    }
   ],
   "source": [
    "# Plot prob of lick of the two tasks\n",
    "fig, axs = plt.subplots(1, 2, figsize=(15, 4))\n",
    "axs[0].plot(m2['scores'])\n",
    "axs[0].plot(m1['scores'])\n",
    "axs[0].set_ylim(-0.1, 1.1)\n",
    "\n",
    "axs[1].plot(m2_am['scores'])\n",
    "axs[1].plot(m1_am['scores'])\n",
    "axs[1].set_ylim(-0.1, 1.1)"
   ]
  },
  {
   "cell_type": "code",
   "execution_count": 16,
   "metadata": {},
   "outputs": [
    {
     "ename": "IndexError",
     "evalue": "list index out of range",
     "output_type": "error",
     "traceback": [
      "\u001b[0;31m---------------------------------------------------------------------------\u001b[0m",
      "\u001b[0;31mIndexError\u001b[0m                                Traceback (most recent call last)",
      "\u001b[0;32m<ipython-input-16-e0c11f14a792>\u001b[0m in \u001b[0;36m<module>\u001b[0;34m\u001b[0m\n\u001b[1;32m      3\u001b[0m \u001b[0;34m\u001b[0m\u001b[0m\n\u001b[1;32m      4\u001b[0m \u001b[0;31m# Correct for stims_am since go is PT\u001b[0m\u001b[0;34m\u001b[0m\u001b[0;34m\u001b[0m\u001b[0;34m\u001b[0m\u001b[0m\n\u001b[0;32m----> 5\u001b[0;31m \u001b[0mstims_am\u001b[0m\u001b[0;34m[\u001b[0m\u001b[0;36m0\u001b[0m\u001b[0;34m]\u001b[0m\u001b[0;34m,\u001b[0m \u001b[0mstims_am\u001b[0m\u001b[0;34m[\u001b[0m\u001b[0;34m-\u001b[0m\u001b[0;36m1\u001b[0m\u001b[0;34m]\u001b[0m \u001b[0;34m=\u001b[0m \u001b[0mstims\u001b[0m\u001b[0;34m[\u001b[0m\u001b[0;36m0\u001b[0m\u001b[0;34m]\u001b[0m\u001b[0;34m,\u001b[0m \u001b[0mstims\u001b[0m\u001b[0;34m[\u001b[0m\u001b[0;34m-\u001b[0m\u001b[0;36m1\u001b[0m\u001b[0;34m]\u001b[0m\u001b[0;34m\u001b[0m\u001b[0;34m\u001b[0m\u001b[0m\n\u001b[0m\u001b[1;32m      6\u001b[0m \u001b[0mnames_am\u001b[0m\u001b[0;34m[\u001b[0m\u001b[0;36m0\u001b[0m\u001b[0;34m]\u001b[0m\u001b[0;34m,\u001b[0m \u001b[0mnames_am\u001b[0m\u001b[0;34m[\u001b[0m\u001b[0;34m-\u001b[0m\u001b[0;36m1\u001b[0m\u001b[0;34m]\u001b[0m \u001b[0;34m=\u001b[0m \u001b[0mnames\u001b[0m\u001b[0;34m[\u001b[0m\u001b[0;36m0\u001b[0m\u001b[0;34m]\u001b[0m\u001b[0;34m,\u001b[0m \u001b[0mnames\u001b[0m\u001b[0;34m[\u001b[0m\u001b[0;34m-\u001b[0m\u001b[0;36m1\u001b[0m\u001b[0;34m]\u001b[0m\u001b[0;34m\u001b[0m\u001b[0;34m\u001b[0m\u001b[0m\n",
      "\u001b[0;31mIndexError\u001b[0m: list index out of range"
     ]
    }
   ],
   "source": [
    "stims, names = get_stims('PT')\n",
    "stims_am, names_am = get_stims('AM')\n",
    "\n",
    "# Correct for stims_am since go is PT\n",
    "stims_am[0], stims_am[-1] = stims[0], stims[-1]\n",
    "names_am[0], names_am[-1] = names[0], names[-1]"
   ]
  },
  {
   "cell_type": "code",
   "execution_count": null,
   "metadata": {
    "scrolled": true
   },
   "outputs": [],
   "source": [
    "# Plot autocorr matrices\n",
    "fig, axs = plt.subplots(1, 2, figsize=(12, 10))\n",
    "corr_matrix = np.corrcoef(np.array([s.flatten() for s in stims]))\n",
    "corr_matrix_am = np.corrcoef(np.array([s.flatten() for s in stims_am]))\n",
    "\n",
    "go_corr = corr_matrix[0, :]\n",
    "go_corr_am = corr_matrix_am[0, :]\n",
    "\n",
    "axs[0].imshow(corr_matrix, vmin=0, vmax=1)\n",
    "axs[1].imshow(corr_matrix_am, vmin=0, vmax=1)\n",
    "\n",
    "plt.tight_layout()\n",
    "plt.show()\n",
    "plt.close()\n",
    "\n",
    "fig, axs = plt.subplots(2, figsize=(12, 10))\n",
    "\n",
    "axs[0].plot(go_corr)\n",
    "axs[1].plot(go_corr_am)\n"
   ]
  },
  {
   "cell_type": "code",
   "execution_count": null,
   "metadata": {},
   "outputs": [],
   "source": [
    "def eucl_dist(s, go, nogo):\n",
    "    s, go, nogo = s.flatten(), go.flatten(), nogo.flatten()\n",
    "    OA = 0.5 * nogo - 0.5 * go\n",
    "    norm_AB = np.linalg.norm(nogo - go)\n",
    "    AD = s - go + OA\n",
    "    dist = np.dot(AD, OA)/norm_AB\n",
    "    \n",
    "    return 0.5*dist"
   ]
  },
  {
   "cell_type": "code",
   "execution_count": null,
   "metadata": {
    "scrolled": true
   },
   "outputs": [],
   "source": [
    "def try_blur_options(stims, ksizes=np.arange(2, 14, 2), sigmas=np.linspace(0.2, 0.9, 30)):\n",
    "    correlation_to_go = {}\n",
    "    for k in ksizes:\n",
    "        for s in sigmas:\n",
    "            blurred_stims = blur_stim(stims, ksize=k, sigma=s)\n",
    "            corrm = np.corrcoef(np.array([bs.flatten() for bs in blurred_stims]))\n",
    "            key = '{}_{:02f}'.format(k, s)\n",
    "            correlation_to_go[key] = corrm[0, :]\n",
    "    \n",
    "    return correlation_to_go\n",
    "        "
   ]
  },
  {
   "cell_type": "code",
   "execution_count": null,
   "metadata": {},
   "outputs": [],
   "source": [
    "def try_blur_options_eucl(stims, ksizes=np.arange(2, 20), sigmas=np.linspace(0.2, 1, 30), go=stims[0], nogo=stims[15]):\n",
    "    correlation_to_go = {}\n",
    "    for k in ksizes:\n",
    "        for s in sigmas:\n",
    "            blurred_stims = blur_stim(stims, ksize=k, sigma=s)\n",
    "            \n",
    "            distances = np.array([eucl_dist(s, go, nogo) for s in blurred_stims])\n",
    "            distances = (distances - np.min(distances))/(np.max(distances) - np.min(distances))\n",
    "            key = '{}_{:02f}'.format(k, s)\n",
    "            correlation_to_go[key] = distances\n",
    "    \n",
    "    return correlation_to_go\n",
    "        "
   ]
  },
  {
   "cell_type": "code",
   "execution_count": null,
   "metadata": {},
   "outputs": [],
   "source": [
    "import tensorflow as tf\n",
    "\n",
    "correlation_to_go = try_blur_options_eucl(stims_am)\n",
    "plt.figure(figsize=(15, 10))\n",
    "\n",
    "plt.plot(m1_am['scores'], color='red', linewidth=3, label='scores_M1')\n",
    "plt.plot(m2_am['scores'], color='pink', linewidth=3, label='scores_M2')\n",
    "\n",
    "errs = {}\n",
    "for k in correlation_to_go:\n",
    "    err = tf.keras.losses.mean_squared_error(m1_am['scores'], correlation_to_go[k]).numpy()\n",
    "    errs[k] = err\n",
    "    plt.plot(correlation_to_go[k])\n",
    "\n",
    "print('Minimal MSE is :', min(errs.values()))\n",
    "plt.plot(correlation_to_go[min(errs, key=errs.get)], label='eucl_distances')\n",
    "plt.legend()\n",
    "# Correlation doesn't seem to explain enough the discrepencies"
   ]
  },
  {
   "cell_type": "markdown",
   "metadata": {},
   "source": [
    "It seems that kernel size does matter. Would be interesting to compare the values of all best fitting kernel across experiment and mice to see if they match. It is definitely a mix between correlation and some othe factor. Attention to a certain space maybe ? Would be interesting to enhances some part of the stim by 20-30% using a fix sized-kernel. Maybe it can work the same way for the code as the blurring model. "
   ]
  },
  {
   "cell_type": "code",
   "execution_count": null,
   "metadata": {
    "scrolled": true
   },
   "outputs": [],
   "source": [
    "# Try to find 10x10 kernel that can match correlations\n",
    "from tensorflow.keras import backend as K \n",
    "from tensorflow.keras.layers import Dense\n",
    "\n",
    "\n",
    "def corr_curve(y_true, y_pred):\n",
    "    pred_freq_corr = unique_filter(stims)\n",
    "    print(pred_freq_corr.shape)\n",
    "\n",
    "    def t(a): return tf.transpose(a)\n",
    "\n",
    "    x = pred_freq_corr\n",
    "    mean_t = tf.reduce_mean(x, axis=1, keepdims=True)\n",
    "    #cov_t = x @ t(x)\n",
    "    cov_t = ((x-mean_t) @ t(x-mean_t))/(pred_freq_corr.shape[1]-1)\n",
    "    cov2_t = tf.linalg.diag(1/tf.sqrt(tf.linalg.diag_part(cov_t)))\n",
    "    cor = cov2_t @ cov_t @ cov2_t\n",
    "\n",
    "    # Fin how to compute autocorrelation matrix\n",
    "    loss = tf.keras.losses.mean_squared_error(y_true, cor[0, :])\n",
    "\n",
    "    return loss\n",
    "\n",
    "initializer = tf.keras.initializers.Ones()\n",
    "\n",
    "\n",
    "stims = np.array(stims).reshape(-1, 10, 10, 1)\n",
    "\n",
    "inputs = Input((10, 10, 1))\n",
    "filtered = Conv2D(1, (1, 1), trainable=True, use_bias=True, strides=1, padding='valid', name='filter_layer')(inputs)\n",
    "out = Reshape((100,))(filtered)\n",
    "\n",
    "\n",
    "unique_filter = Model(inputs=inputs, outputs=out)\n",
    "unique_filter.compile(optimizer='adam', loss=corr_curve)\n",
    "\n",
    "history = unique_filter.fit(stims/255, go_corr,\n",
    "                          epochs=10,\n",
    "                          batch_size=1,\n",
    "                          verbose=0)\n",
    "\n",
    "stims_filtered = unique_filter(stims/255).numpy()\n",
    "print(unique_filter.layers[1].get_weights())\n",
    "for i, s in enumerate(stims_filtered):\n",
    "    fig, axs = plt.subplots(1, 2)\n",
    "    \n",
    "    axs[0].imshow(s.reshape(10, 10), vmin=0, vmax=1)\n",
    "    axs[1].imshow(stims[i].reshape(10, 10)/255, vmin=0, vmax=1)\n",
    "\n",
    "    plt.show()\n",
    "    plt.close()"
   ]
  },
  {
   "cell_type": "code",
   "execution_count": null,
   "metadata": {},
   "outputs": [],
   "source": [
    "OA = 0.5 * stims[15] - 0.5 * stims[0]\n",
    "norm_AB = np.linalg.norm(stims[15] - stims[0])\n",
    "distances = []\n",
    "for s in stims[1:15]:\n",
    "    AD = s - stims[0] + OA\n",
    "    distances.append(1 - np.dot(OA, AD)/norm_AB)\n",
    "\n",
    "plt.plot((distances-np.min(distances))/(np.max(distances) - np.min(distances)))\n",
    "plt.plot(dats[0][1:15])"
   ]
  },
  {
   "cell_type": "code",
   "execution_count": null,
   "metadata": {},
   "outputs": [],
   "source": [
    "calib_dict = {'10': 0.04,\n",
    "              '20': 0.2,\n",
    "              '30': 0.5,\n",
    "              '40': 0.9,\n",
    "              '50': 1.4,\n",
    "              '60': 2.1,\n",
    "              '70': 2.75,\n",
    "              '75': 3.1,\n",
    "              '80': 3.5,\n",
    "              '85': 3.8,\n",
    "              '90': 4.0,\n",
    "              '95': 4.3,\n",
    "              '100':4.5}\n",
    "size_px = 0.196 # in mm2\n",
    "\n",
    "plt.figure(figsize=(12, 12))\n",
    "\n",
    "data_pts = [int(k) for k in calib_dict]\n",
    "powers = [v/0.196 for v in calib_dict.values()]\n",
    "\n",
    "\n",
    "poly = Polynomial.fit(data_pts, powers, 3)\n",
    "x = np.linspace(0, 100, 1000)\n",
    "y = poly(x)\n",
    "\n",
    "min_acti = 10\n",
    "cstims = []\n",
    "for s in stims:\n",
    "    active_units = s[s != 0] # Only compute active units\n",
    "    active_units = min_acti + active_units * (np.max(powers) - min_acti) # Normalize\n",
    "    idx_powers = [np.argmin(np.abs(y - a)) for a in active_units]\n",
    "    s[s != 0] = x[idx_powers]\n",
    "    cstims.append(s)\n"
   ]
  }
 ],
 "metadata": {
  "kernelspec": {
   "display_name": "kaggle",
   "language": "python",
   "name": "kaggle"
  },
  "language_info": {
   "codemirror_mode": {
    "name": "ipython",
    "version": 3
   },
   "file_extension": ".py",
   "mimetype": "text/x-python",
   "name": "python",
   "nbconvert_exporter": "python",
   "pygments_lexer": "ipython3",
   "version": "3.8.5"
  }
 },
 "nbformat": 4,
 "nbformat_minor": 5
}
