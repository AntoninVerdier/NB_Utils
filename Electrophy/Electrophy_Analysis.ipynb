{
 "cells": [
  {
   "cell_type": "code",
   "execution_count": 53,
   "metadata": {},
   "outputs": [],
   "source": [
    "import os \n",
    "import numpy as np \n",
    "from Recording import Recording\n",
    "import settings as s\n",
    "\n",
    "import os\n",
    "import umap\n",
    "import scipy.io as sio\n",
    "import numpy as np\n",
    "import h5py\n",
    "\n",
    "import matplotlib\n",
    "from rich import print\n",
    "from rich.progress import track\n",
    "from rich.traceback import install \n",
    "import matplotlib.pyplot as plt\n",
    "import pandas as pd \n",
    "import seaborn as sns\n",
    "\n",
    "from sklearn import svm\n",
    "from sklearn.model_selection import train_test_split, KFold, cross_val_score, LeaveOneOut, RepeatedKFold, cross_val_predict\n",
    "from sklearn.manifold import TSNE\n",
    "from sklearn.decomposition import PCA\n",
    "from sklearn.metrics import confusion_matrix\n",
    "from sklearn.utils import shuffle\n",
    "from multiprocessing import Pool, Manager\n",
    "\n",
    "\n",
    "params = s.params()\n",
    "\n",
    "\n",
    "\n",
    "# Keep in mind that it is here\n",
    "import warnings\n",
    "warnings.filterwarnings('ignore')"
   ]
  },
  {
   "cell_type": "code",
   "execution_count": 54,
   "metadata": {},
   "outputs": [
    {
     "data": {
      "text/html": [
       "<pre style=\"white-space:pre;overflow-x:auto;line-height:normal;font-family:Menlo,'DejaVu Sans Mono',consolas,'Courier New',monospace\">Analyzing 23_11_2021_2 <span style=\"color: #808000; text-decoration-color: #808000\">...</span>\n",
       "</pre>\n"
      ],
      "text/plain": [
       "Analyzing 23_11_2021_2 \u001b[33m...\u001b[0m\n"
      ]
     },
     "metadata": {},
     "output_type": "display_data"
    },
    {
     "name": "stdout",
     "output_type": "stream",
     "text": [
      "(1575,)\n"
     ]
    },
    {
     "data": {
      "text/html": [
       "<pre style=\"white-space:pre;overflow-x:auto;line-height:normal;font-family:Menlo,'DejaVu Sans Mono',consolas,'Courier New',monospace\"><span style=\"color: #008080; text-decoration-color: #008080; font-weight: bold\">25.0</span>\n",
       "</pre>\n"
      ],
      "text/plain": [
       "\u001b[1;36m25.0\u001b[0m\n"
      ]
     },
     "metadata": {},
     "output_type": "display_data"
    },
    {
     "data": {
      "text/html": [
       "<pre style=\"white-space:pre;overflow-x:auto;line-height:normal;font-family:Menlo,'DejaVu Sans Mono',consolas,'Courier New',monospace\">Analyzing 23_11_2021_1 <span style=\"color: #808000; text-decoration-color: #808000\">...</span>\n",
       "</pre>\n"
      ],
      "text/plain": [
       "Analyzing 23_11_2021_1 \u001b[33m...\u001b[0m\n"
      ]
     },
     "metadata": {},
     "output_type": "display_data"
    },
    {
     "name": "stdout",
     "output_type": "stream",
     "text": [
      "(945,)\n"
     ]
    },
    {
     "data": {
      "text/html": [
       "<pre style=\"white-space:pre;overflow-x:auto;line-height:normal;font-family:Menlo,'DejaVu Sans Mono',consolas,'Courier New',monospace\"><span style=\"color: #008080; text-decoration-color: #008080; font-weight: bold\">15.0</span>\n",
       "</pre>\n"
      ],
      "text/plain": [
       "\u001b[1;36m15.0\u001b[0m\n"
      ]
     },
     "metadata": {},
     "output_type": "display_data"
    },
    {
     "data": {
      "text/html": [
       "<pre style=\"white-space:pre;overflow-x:auto;line-height:normal;font-family:Menlo,'DejaVu Sans Mono',consolas,'Courier New',monospace\">Analyzing 09_11_2021_1 <span style=\"color: #808000; text-decoration-color: #808000\">...</span>\n",
       "</pre>\n"
      ],
      "text/plain": [
       "Analyzing 09_11_2021_1 \u001b[33m...\u001b[0m\n"
      ]
     },
     "metadata": {},
     "output_type": "display_data"
    },
    {
     "name": "stdout",
     "output_type": "stream",
     "text": [
      "(945,)\n"
     ]
    },
    {
     "data": {
      "text/html": [
       "<pre style=\"white-space:pre;overflow-x:auto;line-height:normal;font-family:Menlo,'DejaVu Sans Mono',consolas,'Courier New',monospace\"><span style=\"color: #008080; text-decoration-color: #008080; font-weight: bold\">15.0</span>\n",
       "</pre>\n"
      ],
      "text/plain": [
       "\u001b[1;36m15.0\u001b[0m\n"
      ]
     },
     "metadata": {},
     "output_type": "display_data"
    },
    {
     "data": {
      "text/html": [
       "<pre style=\"white-space:pre;overflow-x:auto;line-height:normal;font-family:Menlo,'DejaVu Sans Mono',consolas,'Courier New',monospace\">Analyzing 08_11_2021_2 <span style=\"color: #808000; text-decoration-color: #808000\">...</span>\n",
       "</pre>\n"
      ],
      "text/plain": [
       "Analyzing 08_11_2021_2 \u001b[33m...\u001b[0m\n"
      ]
     },
     "metadata": {},
     "output_type": "display_data"
    },
    {
     "name": "stdout",
     "output_type": "stream",
     "text": [
      "(945,)\n"
     ]
    },
    {
     "data": {
      "text/html": [
       "<pre style=\"white-space:pre;overflow-x:auto;line-height:normal;font-family:Menlo,'DejaVu Sans Mono',consolas,'Courier New',monospace\"><span style=\"color: #008080; text-decoration-color: #008080; font-weight: bold\">15.0</span>\n",
       "</pre>\n"
      ],
      "text/plain": [
       "\u001b[1;36m15.0\u001b[0m\n"
      ]
     },
     "metadata": {},
     "output_type": "display_data"
    },
    {
     "data": {
      "text/html": [
       "<pre style=\"white-space:pre;overflow-x:auto;line-height:normal;font-family:Menlo,'DejaVu Sans Mono',consolas,'Courier New',monospace\">Analyzing 09_11_2021_2 <span style=\"color: #808000; text-decoration-color: #808000\">...</span>\n",
       "</pre>\n"
      ],
      "text/plain": [
       "Analyzing 09_11_2021_2 \u001b[33m...\u001b[0m\n"
      ]
     },
     "metadata": {},
     "output_type": "display_data"
    },
    {
     "name": "stdout",
     "output_type": "stream",
     "text": [
      "(945,)\n"
     ]
    },
    {
     "data": {
      "text/html": [
       "<pre style=\"white-space:pre;overflow-x:auto;line-height:normal;font-family:Menlo,'DejaVu Sans Mono',consolas,'Courier New',monospace\"><span style=\"color: #008080; text-decoration-color: #008080; font-weight: bold\">15.0</span>\n",
       "</pre>\n"
      ],
      "text/plain": [
       "\u001b[1;36m15.0\u001b[0m\n"
      ]
     },
     "metadata": {},
     "output_type": "display_data"
    },
    {
     "data": {
      "text/html": [
       "<pre style=\"white-space:pre;overflow-x:auto;line-height:normal;font-family:Menlo,'DejaVu Sans Mono',consolas,'Courier New',monospace\">Analyzing 08_11_2021_1 <span style=\"color: #808000; text-decoration-color: #808000\">...</span>\n",
       "</pre>\n"
      ],
      "text/plain": [
       "Analyzing 08_11_2021_1 \u001b[33m...\u001b[0m\n"
      ]
     },
     "metadata": {},
     "output_type": "display_data"
    },
    {
     "name": "stdout",
     "output_type": "stream",
     "text": [
      "(945,)\n"
     ]
    },
    {
     "data": {
      "text/html": [
       "<pre style=\"white-space:pre;overflow-x:auto;line-height:normal;font-family:Menlo,'DejaVu Sans Mono',consolas,'Courier New',monospace\"><span style=\"color: #008080; text-decoration-color: #008080; font-weight: bold\">15.0</span>\n",
       "</pre>\n"
      ],
      "text/plain": [
       "\u001b[1;36m15.0\u001b[0m\n"
      ]
     },
     "metadata": {},
     "output_type": "display_data"
    }
   ],
   "source": [
    "# Load electrophy recordings\n",
    "recs = []\n",
    "main_folder = '/home/anverdie/Documents/Electrophy/To_analyze'\n",
    "for folder in os.listdir(main_folder):\n",
    "    cp = os.path.join(main_folder, folder)\n",
    "    print('Analyzing {} ...'.format(folder))\n",
    "    rec = Recording(cp, os.path.join(cp, 'SoundInfo.mat'), name=folder)\n",
    "    print(len(rec.s_vector)/len(np.unique(rec.s_vector)))\n",
    "    rec.select_data_quality(quality='good')\n",
    "    rec.ttl_alignment(multi=False)\n",
    "    recs.append(rec)\n",
    "\n",
    "rec = np.sum(recs)"
   ]
  },
  {
   "cell_type": "code",
   "execution_count": 55,
   "metadata": {},
   "outputs": [],
   "source": [
    "def compute_svm(X, y):\n",
    "\n",
    "    scores = []\n",
    "    X, y = shuffle(X, y)\n",
    "    clf = svm.SVC(kernel='linear')\n",
    "    scores = cross_val_score(clf, X, y, cv=5)\n",
    "\n",
    "\n",
    "    ########## Need to make sure that data is shuffled\n",
    "    #scores = cross_val_score(clf, X, y, cv=5)\n",
    "    return scores"
   ]
  },
  {
   "cell_type": "code",
   "execution_count": 56,
   "metadata": {},
   "outputs": [],
   "source": [
    "def svm_preformance(rec):\n",
    "    for i, t in enumerate([params.task1, params.task2, params.task3, params.task4]):\n",
    "        scores = []\n",
    "        for p in track(np.arange(0, 1000, 50), description='Compute SVM for each task ...'):\n",
    "            pop_vectors = rec.complete_vectors(0, p)\n",
    "\n",
    "            X = np.array([pop_vectors[stim][p] for stim in t for p in pop_vectors[stim]])\n",
    "            if i < 2:\n",
    "                y = np.array([0 if i < 8 else 1 for i, stim in enumerate(t) for p in pop_vectors[stim]])\n",
    "            elif i == 2:\n",
    "                y = params.y_task3\n",
    "            elif i == 3:\n",
    "                y = params.y_task4\n",
    "\n",
    "            score = compute_svm(X, y)\n",
    "            scores.append([np.mean(score), np.std(score)])\n",
    "\n",
    "        scores = np.array(scores).reshape(-1, 2)\n",
    "\n",
    "        plt.errorbar(np.arange(0, 1000, 50), scores[:, 0], label='Task {}'.format(i + 1))\n",
    "\n",
    "    plt.legend()\n",
    "    plt.savefig('performance_svm_population.png')\n",
    "    plt.show()"
   ]
  },
  {
   "cell_type": "code",
   "execution_count": 57,
   "metadata": {},
   "outputs": [
    {
     "data": {
      "text/plain": [
       "\"\\n        plt.plot(np.geomspace(6e3, 16e3, 16), psycos, color=colors[tidx], linewidth=2, markersize=6, marker='o')\\n        plt.xscale('log')\\n        plt.legend()\\n        plt.savefig('p1_{}.svg'.format(name))\\n        \\n\\n        plt.show()\""
      ]
     },
     "execution_count": 57,
     "metadata": {},
     "output_type": "execute_result"
    }
   ],
   "source": [
    "def psychocurve1(rec, pb=0, pa=1000, timebin=10, vec='complete', name='test'):\n",
    "\n",
    "    colors = ['blue']\n",
    "    for tidx, t in enumerate([params.task1]):\n",
    "        \n",
    "        if vec == 'complete': pop_vectors = rec.get_complete_vectors(pb, pa, timebin=timebin)\n",
    "        if vec == 'time': pop_vectors = rec.get_timings_vectors(pb, pa, timebin=timebin)\n",
    "        if vec == 'pop': pop_vectors = rec.get_population_vectors(pb, pa)\n",
    "\n",
    "\n",
    "        X = np.array([pop_vectors[stim][p] for stim in t for p in pop_vectors[stim]])\n",
    "        y = np.array([0 if i < 8 else 1 for i, stim in enumerate(t) for p in pop_vectors[stim]])\n",
    "        \n",
    "        true_classes = np.array([i for i, stim in enumerate(t) for p in pop_vectors[stim]]) + 1\n",
    "\n",
    "        X, y, true_classes = shuffle(X, y, true_classes)\n",
    "        psycos = []\n",
    "        for train_index, test_index in RepeatedKFold(n_repeats=3).split(X):\n",
    "            clf = svm.SVC(kernel='linear')\n",
    "            X_train, X_test = X[train_index], X[test_index]\n",
    "            y_train, y_test = y[train_index], y[test_index]\n",
    "            tc_train, tc_test = true_classes[train_index], true_classes[test_index]\n",
    "\n",
    "            clf.fit(X_train, y_train)\n",
    "            y_pred = clf.predict(X_test)\n",
    "            correct = np.logical_not(np.logical_xor(y_pred, y_test))\n",
    "            counting_vec = list(correct * tc_test)\n",
    "\n",
    "            for i in np.unique(true_classes):\n",
    "                try:\n",
    "                    if i < 9:\n",
    "                        psycos.append(counting_vec.count(i)/list(tc_test).count(i))\n",
    "                    else:\n",
    "                        psycos.append(1 - counting_vec.count(i)/list(tc_test).count(i))\n",
    "                except ZeroDivisionError:\n",
    "                    psycos.append(0)\n",
    "    \n",
    "        \n",
    "        psycos = np.array(psycos).reshape(-1, 16)\n",
    "        psycos = np.mean(psycos, axis=0)\n",
    "        \n",
    "        return psycos\n",
    "\"\"\"\n",
    "        plt.plot(np.geomspace(6e3, 16e3, 16), psycos, color=colors[tidx], linewidth=2, markersize=6, marker='o')\n",
    "        plt.xscale('log')\n",
    "        plt.legend()\n",
    "        plt.savefig('p1_{}.svg'.format(name))\n",
    "        \n",
    "\n",
    "        plt.show()\"\"\""
   ]
  },
  {
   "cell_type": "code",
   "execution_count": 58,
   "metadata": {},
   "outputs": [
    {
     "data": {
      "text/plain": [
       "\"\\n        plt.plot(np.geomspace(20, 200, 16), psycos, color=colors[tidx], linewidth=2, markersize=6, marker='o')\\n        plt.xscale('log')\\n        plt.savefig('p2_{}.svg'.format(name))\\n\\n        plt.show()\""
      ]
     },
     "execution_count": 58,
     "metadata": {},
     "output_type": "execute_result"
    }
   ],
   "source": [
    "def psychocurve2(rec, pb=0, pa=1000, timebin=10, vec='complete', name='test'):\n",
    "    \n",
    "    \n",
    "    colors = ['forestgreen']\n",
    "    for tidx, t in enumerate([params.task2]):\n",
    "        \n",
    "        if vec == 'complete': pop_vectors = rec.get_complete_vectors(pb, pa, timebin=timebin)\n",
    "        if vec == 'time': pop_vectors = rec.get_timings_vectors(pb, pa, timebin=timebin)\n",
    "        if vec == 'pop': pop_vectors = rec.get_population_vectors(pb, pa)\n",
    "\n",
    "\n",
    "        X = np.array([pop_vectors[stim][p] for stim in t for p in pop_vectors[stim]])\n",
    "        y = np.array([0 if i < 8 else 1 for i, stim in enumerate(t) for p in pop_vectors[stim]])\n",
    "\n",
    "        true_classes = np.array([i for i, stim in enumerate(t) for p in pop_vectors[stim]]) + 1\n",
    "        \n",
    "        X, y, true_classes = shuffle(X, y, true_classes)\n",
    "        psycos = []\n",
    "        for train_index, test_index in RepeatedKFold(n_repeats=3).split(X):\n",
    "            clf = svm.SVC(kernel='linear')\n",
    "            X_train, X_test = X[train_index], X[test_index]\n",
    "            y_train, y_test = y[train_index], y[test_index]\n",
    "            tc_train, tc_test = true_classes[train_index], true_classes[test_index]\n",
    "\n",
    "            clf.fit(X_train, y_train)\n",
    "            y_pred = clf.predict(X_test)\n",
    "            correct = np.logical_not(np.logical_xor(y_pred, y_test))\n",
    "            counting_vec = list(correct * tc_test)\n",
    "\n",
    "            for i in np.unique(true_classes):\n",
    "                try:\n",
    "                    if i < 9:\n",
    "                        psycos.append(counting_vec.count(i)/list(tc_test).count(i))\n",
    "                    else:\n",
    "                        psycos.append(1 - counting_vec.count(i)/list(tc_test).count(i))\n",
    "                except ZeroDivisionError:\n",
    "                    psycos.append(0)\n",
    "    \n",
    "        \n",
    "        psycos = np.array(psycos).reshape(-1, 16)\n",
    "        psycos = np.mean(psycos, axis=0)\n",
    "        \n",
    "        return psycos\n",
    "\"\"\"\n",
    "        plt.plot(np.geomspace(20, 200, 16), psycos, color=colors[tidx], linewidth=2, markersize=6, marker='o')\n",
    "        plt.xscale('log')\n",
    "        plt.savefig('p2_{}.svg'.format(name))\n",
    "\n",
    "        plt.show()\"\"\""
   ]
  },
  {
   "cell_type": "code",
   "execution_count": 59,
   "metadata": {},
   "outputs": [],
   "source": [
    "def psychocurve3(rec, pb=0, pa=1000, timebin=10, vec='complete', name='test'):\n",
    "    \n",
    "    task31 = [8, 12 , 16, 20, 0, 4]\n",
    "    task32 = [x + 1 for x in task31]\n",
    "    task33 = [x + 1 for x in task32]\n",
    "    task34 = [x + 1 for x in task33]\n",
    "    \n",
    "    colors = ['#faa307', '#f48c06', '#e85d04', '#dc2f02']\n",
    "    legends = ['45dB', '50dB', '55dB', '60dB']\n",
    "    all_psycho = []\n",
    "    for tidx, t in enumerate([task31, task32, task33, task34]):\n",
    "        \n",
    "        if vec == 'complete': pop_vectors = rec.get_complete_vectors(pb, pa, timebin=timebin)\n",
    "        if vec == 'time': pop_vectors = rec.get_timings_vectors(pb, pa, timebin=timebin)\n",
    "        if vec == 'pop': pop_vectors = rec.get_population_vectors(pb, pa)\n",
    "\n",
    "\n",
    "        X = np.array([pop_vectors[stim][p] for stim in t for p in pop_vectors[stim]])\n",
    "        y = np.array([0 if i < 3 else 1 for i, stim in enumerate(t) for p in pop_vectors[stim]])\n",
    "\n",
    "        true_classes = np.array([i for i, stim in enumerate(t) for p in pop_vectors[stim]]) + 1\n",
    "\n",
    "        X, y, true_classes = shuffle(X, y, true_classes)\n",
    "        psycos = []\n",
    "        for train_index, test_index in track(RepeatedKFold(n_repeats=3).split(X), total=5*3):\n",
    "            clf = svm.SVC(kernel='linear')\n",
    "            X_train, X_test = X[train_index], X[test_index]\n",
    "            y_train, y_test = y[train_index], y[test_index]\n",
    "            tc_train, tc_test = true_classes[train_index], true_classes[test_index]\n",
    "\n",
    "            clf.fit(X_train, y_train)\n",
    "            y_pred = clf.predict(X_test)\n",
    "            correct = np.logical_not(np.logical_xor(y_pred, y_test))\n",
    "            counting_vec = list(correct * tc_test)\n",
    "\n",
    "            for i in np.unique(true_classes):\n",
    "                try:\n",
    "                    if i < 4:\n",
    "                        psycos.append(counting_vec.count(i)/list(tc_test).count(i))\n",
    "                    else:\n",
    "                        psycos.append(1 - counting_vec.count(i)/list(tc_test).count(i))\n",
    "                except ZeroDivisionError:\n",
    "                    psycos.append(0)\n",
    "    \n",
    "        psycos = np.array(psycos).reshape(-1, 6)\n",
    "        psycos = np.mean(psycos, axis=0)\n",
    "        \n",
    "        all_psycho.append(psycos)\n",
    "\n",
    "        plt.plot(np.geomspace(20, 200, 6), psycos, color=colors[tidx], label=legends[tidx], linewidth=2, markersize=6, marker='o')\n",
    "        plt.xscale('log')\n",
    "        plt.legend()\n",
    "    return all_psycho\n",
    "    plt.savefig('p3_{}.svg'.format(name))\n",
    "    plt.show()\n",
    "        "
   ]
  },
  {
   "cell_type": "code",
   "execution_count": 60,
   "metadata": {},
   "outputs": [
    {
     "data": {
      "text/plain": [
       "\"\\n        plt.plot([0, 2, 4, 6, 8, 10], psycos, color=colors[tidx], linewidth=2, markersize=6, marker='o')\\n        plt.savefig('p4_{}.svg'.format(name))\\n        plt.show()\""
      ]
     },
     "execution_count": 60,
     "metadata": {},
     "output_type": "execute_result"
    }
   ],
   "source": [
    "def psychocurve4(rec, pb=0, pa=1000, timebin=10, vec='complete', name='test'):\n",
    "    colors = ['purple']\n",
    "    for tidx, t in enumerate([params.task4]):\n",
    "        \n",
    "        if vec == 'complete': pop_vectors = rec.get_complete_vectors(pb, pa, timebin=timebin)\n",
    "        if vec == 'time': pop_vectors = rec.get_timings_vectors(pb, pa, timebin=timebin)\n",
    "        if vec == 'pop': pop_vectors = rec.get_population_vectors(pb, pa)\n",
    "\n",
    "\n",
    "        X = np.array([pop_vectors[stim][p] for stim in t for p in pop_vectors[stim]])\n",
    "        y = np.array([1 if i == 0 else 0 for i, stim in enumerate(t) for p in pop_vectors[stim]])\n",
    "\n",
    "        true_classes = np.array([i for i, stim in enumerate(t) for p in pop_vectors[stim]]) + 1\n",
    "        \n",
    "\n",
    "        X, y, true_classes = shuffle(X, y, true_classes)\n",
    "        psycos = []\n",
    "        for train_index, test_index in track(LeaveOneOut().split(X), total=X.shape[0]):\n",
    "            clf = svm.SVC(kernel='linear')\n",
    "            X_train, X_test = X[train_index], X[test_index]\n",
    "            y_train, y_test = y[train_index], y[test_index]\n",
    "            tc_train, tc_test = true_classes[train_index], true_classes[test_index]\n",
    "\n",
    "            clf.fit(X_train, y_train)\n",
    "            y_pred = clf.predict(X_test)\n",
    "            correct = np.logical_not(np.logical_xor(y_pred, y_test))\n",
    "            counting_vec = list(correct * tc_test)\n",
    "\n",
    "            for i in np.unique(true_classes):\n",
    "                try:\n",
    "                    if i > 1:\n",
    "                        psycos.append(counting_vec.count(i)/list(tc_test).count(i))\n",
    "                    else:\n",
    "                        psycos.append(1 - counting_vec.count(i)/list(tc_test).count(i))\n",
    "                except ZeroDivisionError:\n",
    "                    psycos.append(0)\n",
    "        \n",
    "        psycos = np.array(psycos).reshape(-1, 6)\n",
    "        psycos = np.mean(psycos, axis=0)\n",
    "\"\"\"\n",
    "        plt.plot([0, 2, 4, 6, 8, 10], psycos, color=colors[tidx], linewidth=2, markersize=6, marker='o')\n",
    "        plt.savefig('p4_{}.svg'.format(name))\n",
    "        plt.show()\"\"\"\n",
    "        "
   ]
  },
  {
   "cell_type": "code",
   "execution_count": 61,
   "metadata": {},
   "outputs": [],
   "source": [
    "def scoring_fit_multi(parameters):\n",
    "    \n",
    "    search = []\n",
    "    for pa in parameters['pa']:\n",
    "        for timebin in parameters['timebin']:\n",
    "            for vec in parameters['vec']:\n",
    "                if timebin <= pa:\n",
    "                    search.append((pa, timebin, vec))\n",
    "    \n",
    "    with Pool() as p:\n",
    "        results = [p.apply_async(scoring_fit, args=(s, )) for s in search]\n",
    "        scores = [p.get() for p in results]\n",
    "\n",
    "    scores = np.array(scores)\n",
    "\n",
    "    return scores, search\n"
   ]
  },
  {
   "cell_type": "code",
   "execution_count": 62,
   "metadata": {
    "scrolled": true
   },
   "outputs": [
    {
     "ename": "KeyboardInterrupt",
     "evalue": "",
     "output_type": "error",
     "traceback": [
      "\u001b[0;31m---------------------------------------------------------------------------\u001b[0m",
      "\u001b[0;31mKeyboardInterrupt\u001b[0m                         Traceback (most recent call last)",
      "\u001b[0;32m<ipython-input-62-378bee0a2b87>\u001b[0m in \u001b[0;36m<module>\u001b[0;34m\u001b[0m\n\u001b[1;32m     28\u001b[0m \u001b[0;34m\u001b[0m\u001b[0m\n\u001b[1;32m     29\u001b[0m \u001b[0;34m\u001b[0m\u001b[0m\n\u001b[0;32m---> 30\u001b[0;31m \u001b[0mscores\u001b[0m \u001b[0;34m=\u001b[0m \u001b[0mscoring_fit_multi\u001b[0m\u001b[0;34m(\u001b[0m\u001b[0mparameters\u001b[0m\u001b[0;34m)\u001b[0m\u001b[0;34m\u001b[0m\u001b[0;34m\u001b[0m\u001b[0m\n\u001b[0m",
      "\u001b[0;32m<ipython-input-61-20eb63c57958>\u001b[0m in \u001b[0;36mscoring_fit_multi\u001b[0;34m(parameters)\u001b[0m\n\u001b[1;32m     10\u001b[0m     \u001b[0;32mwith\u001b[0m \u001b[0mPool\u001b[0m\u001b[0;34m(\u001b[0m\u001b[0;34m)\u001b[0m \u001b[0;32mas\u001b[0m \u001b[0mp\u001b[0m\u001b[0;34m:\u001b[0m\u001b[0;34m\u001b[0m\u001b[0;34m\u001b[0m\u001b[0m\n\u001b[1;32m     11\u001b[0m         \u001b[0mresults\u001b[0m \u001b[0;34m=\u001b[0m \u001b[0;34m[\u001b[0m\u001b[0mp\u001b[0m\u001b[0;34m.\u001b[0m\u001b[0mapply_async\u001b[0m\u001b[0;34m(\u001b[0m\u001b[0mscoring_fit\u001b[0m\u001b[0;34m,\u001b[0m \u001b[0margs\u001b[0m\u001b[0;34m=\u001b[0m\u001b[0;34m(\u001b[0m\u001b[0ms\u001b[0m\u001b[0;34m,\u001b[0m \u001b[0;34m)\u001b[0m\u001b[0;34m)\u001b[0m \u001b[0;32mfor\u001b[0m \u001b[0ms\u001b[0m \u001b[0;32min\u001b[0m \u001b[0msearch\u001b[0m\u001b[0;34m]\u001b[0m\u001b[0;34m\u001b[0m\u001b[0;34m\u001b[0m\u001b[0m\n\u001b[0;32m---> 12\u001b[0;31m         \u001b[0mscores\u001b[0m \u001b[0;34m=\u001b[0m \u001b[0;34m[\u001b[0m\u001b[0mp\u001b[0m\u001b[0;34m.\u001b[0m\u001b[0mget\u001b[0m\u001b[0;34m(\u001b[0m\u001b[0;34m)\u001b[0m \u001b[0;32mfor\u001b[0m \u001b[0mp\u001b[0m \u001b[0;32min\u001b[0m \u001b[0mresults\u001b[0m\u001b[0;34m]\u001b[0m\u001b[0;34m\u001b[0m\u001b[0;34m\u001b[0m\u001b[0m\n\u001b[0m\u001b[1;32m     13\u001b[0m \u001b[0;34m\u001b[0m\u001b[0m\n\u001b[1;32m     14\u001b[0m     \u001b[0mscores\u001b[0m \u001b[0;34m=\u001b[0m \u001b[0mnp\u001b[0m\u001b[0;34m.\u001b[0m\u001b[0marray\u001b[0m\u001b[0;34m(\u001b[0m\u001b[0mscores\u001b[0m\u001b[0;34m)\u001b[0m\u001b[0;34m\u001b[0m\u001b[0;34m\u001b[0m\u001b[0m\n",
      "\u001b[0;32m<ipython-input-61-20eb63c57958>\u001b[0m in \u001b[0;36m<listcomp>\u001b[0;34m(.0)\u001b[0m\n\u001b[1;32m     10\u001b[0m     \u001b[0;32mwith\u001b[0m \u001b[0mPool\u001b[0m\u001b[0;34m(\u001b[0m\u001b[0;34m)\u001b[0m \u001b[0;32mas\u001b[0m \u001b[0mp\u001b[0m\u001b[0;34m:\u001b[0m\u001b[0;34m\u001b[0m\u001b[0;34m\u001b[0m\u001b[0m\n\u001b[1;32m     11\u001b[0m         \u001b[0mresults\u001b[0m \u001b[0;34m=\u001b[0m \u001b[0;34m[\u001b[0m\u001b[0mp\u001b[0m\u001b[0;34m.\u001b[0m\u001b[0mapply_async\u001b[0m\u001b[0;34m(\u001b[0m\u001b[0mscoring_fit\u001b[0m\u001b[0;34m,\u001b[0m \u001b[0margs\u001b[0m\u001b[0;34m=\u001b[0m\u001b[0;34m(\u001b[0m\u001b[0ms\u001b[0m\u001b[0;34m,\u001b[0m \u001b[0;34m)\u001b[0m\u001b[0;34m)\u001b[0m \u001b[0;32mfor\u001b[0m \u001b[0ms\u001b[0m \u001b[0;32min\u001b[0m \u001b[0msearch\u001b[0m\u001b[0;34m]\u001b[0m\u001b[0;34m\u001b[0m\u001b[0;34m\u001b[0m\u001b[0m\n\u001b[0;32m---> 12\u001b[0;31m         \u001b[0mscores\u001b[0m \u001b[0;34m=\u001b[0m \u001b[0;34m[\u001b[0m\u001b[0mp\u001b[0m\u001b[0;34m.\u001b[0m\u001b[0mget\u001b[0m\u001b[0;34m(\u001b[0m\u001b[0;34m)\u001b[0m \u001b[0;32mfor\u001b[0m \u001b[0mp\u001b[0m \u001b[0;32min\u001b[0m \u001b[0mresults\u001b[0m\u001b[0;34m]\u001b[0m\u001b[0;34m\u001b[0m\u001b[0;34m\u001b[0m\u001b[0m\n\u001b[0m\u001b[1;32m     13\u001b[0m \u001b[0;34m\u001b[0m\u001b[0m\n\u001b[1;32m     14\u001b[0m     \u001b[0mscores\u001b[0m \u001b[0;34m=\u001b[0m \u001b[0mnp\u001b[0m\u001b[0;34m.\u001b[0m\u001b[0marray\u001b[0m\u001b[0;34m(\u001b[0m\u001b[0mscores\u001b[0m\u001b[0;34m)\u001b[0m\u001b[0;34m\u001b[0m\u001b[0;34m\u001b[0m\u001b[0m\n",
      "\u001b[0;32m~/.conda/envs/kaggle/lib/python3.8/multiprocessing/pool.py\u001b[0m in \u001b[0;36mget\u001b[0;34m(self, timeout)\u001b[0m\n\u001b[1;32m    763\u001b[0m \u001b[0;34m\u001b[0m\u001b[0m\n\u001b[1;32m    764\u001b[0m     \u001b[0;32mdef\u001b[0m \u001b[0mget\u001b[0m\u001b[0;34m(\u001b[0m\u001b[0mself\u001b[0m\u001b[0;34m,\u001b[0m \u001b[0mtimeout\u001b[0m\u001b[0;34m=\u001b[0m\u001b[0;32mNone\u001b[0m\u001b[0;34m)\u001b[0m\u001b[0;34m:\u001b[0m\u001b[0;34m\u001b[0m\u001b[0;34m\u001b[0m\u001b[0m\n\u001b[0;32m--> 765\u001b[0;31m         \u001b[0mself\u001b[0m\u001b[0;34m.\u001b[0m\u001b[0mwait\u001b[0m\u001b[0;34m(\u001b[0m\u001b[0mtimeout\u001b[0m\u001b[0;34m)\u001b[0m\u001b[0;34m\u001b[0m\u001b[0;34m\u001b[0m\u001b[0m\n\u001b[0m\u001b[1;32m    766\u001b[0m         \u001b[0;32mif\u001b[0m \u001b[0;32mnot\u001b[0m \u001b[0mself\u001b[0m\u001b[0;34m.\u001b[0m\u001b[0mready\u001b[0m\u001b[0;34m(\u001b[0m\u001b[0;34m)\u001b[0m\u001b[0;34m:\u001b[0m\u001b[0;34m\u001b[0m\u001b[0;34m\u001b[0m\u001b[0m\n\u001b[1;32m    767\u001b[0m             \u001b[0;32mraise\u001b[0m \u001b[0mTimeoutError\u001b[0m\u001b[0;34m\u001b[0m\u001b[0;34m\u001b[0m\u001b[0m\n",
      "\u001b[0;32m~/.conda/envs/kaggle/lib/python3.8/multiprocessing/pool.py\u001b[0m in \u001b[0;36mwait\u001b[0;34m(self, timeout)\u001b[0m\n\u001b[1;32m    760\u001b[0m \u001b[0;34m\u001b[0m\u001b[0m\n\u001b[1;32m    761\u001b[0m     \u001b[0;32mdef\u001b[0m \u001b[0mwait\u001b[0m\u001b[0;34m(\u001b[0m\u001b[0mself\u001b[0m\u001b[0;34m,\u001b[0m \u001b[0mtimeout\u001b[0m\u001b[0;34m=\u001b[0m\u001b[0;32mNone\u001b[0m\u001b[0;34m)\u001b[0m\u001b[0;34m:\u001b[0m\u001b[0;34m\u001b[0m\u001b[0;34m\u001b[0m\u001b[0m\n\u001b[0;32m--> 762\u001b[0;31m         \u001b[0mself\u001b[0m\u001b[0;34m.\u001b[0m\u001b[0m_event\u001b[0m\u001b[0;34m.\u001b[0m\u001b[0mwait\u001b[0m\u001b[0;34m(\u001b[0m\u001b[0mtimeout\u001b[0m\u001b[0;34m)\u001b[0m\u001b[0;34m\u001b[0m\u001b[0;34m\u001b[0m\u001b[0m\n\u001b[0m\u001b[1;32m    763\u001b[0m \u001b[0;34m\u001b[0m\u001b[0m\n\u001b[1;32m    764\u001b[0m     \u001b[0;32mdef\u001b[0m \u001b[0mget\u001b[0m\u001b[0;34m(\u001b[0m\u001b[0mself\u001b[0m\u001b[0;34m,\u001b[0m \u001b[0mtimeout\u001b[0m\u001b[0;34m=\u001b[0m\u001b[0;32mNone\u001b[0m\u001b[0;34m)\u001b[0m\u001b[0;34m:\u001b[0m\u001b[0;34m\u001b[0m\u001b[0;34m\u001b[0m\u001b[0m\n",
      "\u001b[0;32m~/.conda/envs/kaggle/lib/python3.8/threading.py\u001b[0m in \u001b[0;36mwait\u001b[0;34m(self, timeout)\u001b[0m\n\u001b[1;32m    556\u001b[0m             \u001b[0msignaled\u001b[0m \u001b[0;34m=\u001b[0m \u001b[0mself\u001b[0m\u001b[0;34m.\u001b[0m\u001b[0m_flag\u001b[0m\u001b[0;34m\u001b[0m\u001b[0;34m\u001b[0m\u001b[0m\n\u001b[1;32m    557\u001b[0m             \u001b[0;32mif\u001b[0m \u001b[0;32mnot\u001b[0m \u001b[0msignaled\u001b[0m\u001b[0;34m:\u001b[0m\u001b[0;34m\u001b[0m\u001b[0;34m\u001b[0m\u001b[0m\n\u001b[0;32m--> 558\u001b[0;31m                 \u001b[0msignaled\u001b[0m \u001b[0;34m=\u001b[0m \u001b[0mself\u001b[0m\u001b[0;34m.\u001b[0m\u001b[0m_cond\u001b[0m\u001b[0;34m.\u001b[0m\u001b[0mwait\u001b[0m\u001b[0;34m(\u001b[0m\u001b[0mtimeout\u001b[0m\u001b[0;34m)\u001b[0m\u001b[0;34m\u001b[0m\u001b[0;34m\u001b[0m\u001b[0m\n\u001b[0m\u001b[1;32m    559\u001b[0m             \u001b[0;32mreturn\u001b[0m \u001b[0msignaled\u001b[0m\u001b[0;34m\u001b[0m\u001b[0;34m\u001b[0m\u001b[0m\n\u001b[1;32m    560\u001b[0m \u001b[0;34m\u001b[0m\u001b[0m\n",
      "\u001b[0;32m~/.conda/envs/kaggle/lib/python3.8/threading.py\u001b[0m in \u001b[0;36mwait\u001b[0;34m(self, timeout)\u001b[0m\n\u001b[1;32m    300\u001b[0m         \u001b[0;32mtry\u001b[0m\u001b[0;34m:\u001b[0m    \u001b[0;31m# restore state no matter what (e.g., KeyboardInterrupt)\u001b[0m\u001b[0;34m\u001b[0m\u001b[0;34m\u001b[0m\u001b[0m\n\u001b[1;32m    301\u001b[0m             \u001b[0;32mif\u001b[0m \u001b[0mtimeout\u001b[0m \u001b[0;32mis\u001b[0m \u001b[0;32mNone\u001b[0m\u001b[0;34m:\u001b[0m\u001b[0;34m\u001b[0m\u001b[0;34m\u001b[0m\u001b[0m\n\u001b[0;32m--> 302\u001b[0;31m                 \u001b[0mwaiter\u001b[0m\u001b[0;34m.\u001b[0m\u001b[0macquire\u001b[0m\u001b[0;34m(\u001b[0m\u001b[0;34m)\u001b[0m\u001b[0;34m\u001b[0m\u001b[0;34m\u001b[0m\u001b[0m\n\u001b[0m\u001b[1;32m    303\u001b[0m                 \u001b[0mgotit\u001b[0m \u001b[0;34m=\u001b[0m \u001b[0;32mTrue\u001b[0m\u001b[0;34m\u001b[0m\u001b[0;34m\u001b[0m\u001b[0m\n\u001b[1;32m    304\u001b[0m             \u001b[0;32melse\u001b[0m\u001b[0;34m:\u001b[0m\u001b[0;34m\u001b[0m\u001b[0;34m\u001b[0m\u001b[0m\n",
      "\u001b[0;31mKeyboardInterrupt\u001b[0m: "
     ]
    }
   ],
   "source": [
    "from sklearn.metrics import mean_squared_error as mse\n",
    "\n",
    "# Define parameters for hypersearch\n",
    "parameters = {'pa': list(range(10, 1000, 10)), \n",
    "              'timebin': list(range(5, 100, 5)),\n",
    "              'vec':['complete', 'pop', 'time']}\n",
    "\n",
    "root = '/home/anverdie/share/gaia/User_folders/Antonin/Papers/Figures/Data_of_figs'\n",
    "task_1 = np.load(os.path.join(root, 'C/Panel_C_data.pkl'), allow_pickle=True)['mean_psykos']\n",
    "task_2 = np.load(os.path.join(root, 'D/Panel_D_data.pkl'), allow_pickle=True)['mean_psykos']\n",
    "noise_45 = np.load(os.path.join(root, 'E/PCAMN45.npy'), allow_pickle=True)\n",
    "noise_50 = np.load(os.path.join(root, 'E/PCAMN50.npy'), allow_pickle=True)\n",
    "noise_55 = np.load(os.path.join(root, 'E/PCAMN55.npy'), allow_pickle=True)\n",
    "noise_60 = np.load(os.path.join(root, 'E/PCAMN60.npy'), allow_pickle=True)\n",
    "\n",
    "\n",
    "def scoring_fit(args):\n",
    "    pa, timebin, vec = args\n",
    "    predict_1 = psychocurve1(rec, pb=0, pa=pa,timebin=timebin, vec=vec)\n",
    "    predict_2 = psychocurve2(rec, pb=0, pa=pa,timebin=timebin, vec=vec)\n",
    "    #predict_3 = psychocurve3(rec, pb=0, pa=pa,timebin=timebin, vec=vec)\n",
    "    #predict_4 = psychocurve4(rec, pb=0, pa=pa,timebin=timebin, vec=vec)\n",
    "\n",
    "    score_1 = mse(task_1, predict_1)\n",
    "    score_2 = mse(task_2, predict_2)\n",
    "    #score_3 = mse(task3, predict_3)\n",
    "    return score_1, score_2\n",
    "\n",
    "\n",
    "scores = scoring_fit_multi(parameters)"
   ]
  },
  {
   "cell_type": "code",
   "execution_count": null,
   "metadata": {},
   "outputs": [],
   "source": [
    "print(scores)"
   ]
  },
  {
   "cell_type": "code",
   "execution_count": null,
   "metadata": {
    "scrolled": false
   },
   "outputs": [],
   "source": [
    "#psychocurve1(rec, pb=0, pa=1000,timebin=10, vec='pop')\n",
    "#psychocurve2(rec, pb=0, pa=1000,timebin=5, vec='pop')\n",
    "psychocurve3(rec, pb=0, pa=1000,timebin=5, vec='complete')\n",
    "#psychocurve4(rec, pb=0, pa=1000,timebin=10, vec='complete')"
   ]
  },
  {
   "cell_type": "code",
   "execution_count": null,
   "metadata": {
    "scrolled": true
   },
   "outputs": [],
   "source": [
    "psychocurve1(rec, pb=0, pa=200,timebin=10, vec='complete')\n",
    "psychocurve2(rec, pb=0, pa=200,timebin=10, vec='complete')\n",
    "psychocurve3(rec, pb=0, pa=200,timebin=10, vec='complete')\n",
    "#psychocurve4(rec, pb=0, pa=200,timebin=10, vec='complete')"
   ]
  },
  {
   "cell_type": "code",
   "execution_count": null,
   "metadata": {
    "scrolled": true
   },
   "outputs": [],
   "source": [
    "psychocurve1(rec, pb=0, pa=100,timebin=10, vec='complete')\n",
    "psychocurve2(rec, pb=0, pa=100,timebin=10, vec='complete')\n",
    "psychocurve3(rec, pb=0, pa=100,timebin=10, vec='complete')"
   ]
  },
  {
   "cell_type": "code",
   "execution_count": null,
   "metadata": {
    "scrolled": true
   },
   "outputs": [],
   "source": [
    "psychocurve1(rec, pb=0, pa=60,timebin=10, vec='complete')\n",
    "psychocurve2(rec, pb=0, pa=60,timebin=10, vec='complete')\n",
    "psychocurve3(rec, pb=0, pa=60,timebin=10, vec='complete')"
   ]
  },
  {
   "cell_type": "code",
   "execution_count": null,
   "metadata": {
    "scrolled": true
   },
   "outputs": [],
   "source": [
    "psychocurve1(rec, pb=0, pa=80,timebin=10, vec='complete')\n",
    "psychocurve2(rec, pb=0, pa=80,timebin=10, vec='complete')\n",
    "psychocurve3(rec, pb=0, pa=80,timebin=10, vec='complete')"
   ]
  },
  {
   "cell_type": "code",
   "execution_count": null,
   "metadata": {
    "scrolled": true
   },
   "outputs": [],
   "source": [
    "psychocurve1(rec, pb=0, pa=80,timebin=10, vec='pop')\n",
    "psychocurve2(rec, pb=0, pa=80,timebin=10, vec='pop')\n",
    "psychocurve3(rec, pb=0, pa=80,timebin=10, vec='pop')"
   ]
  },
  {
   "cell_type": "code",
   "execution_count": null,
   "metadata": {
    "scrolled": true
   },
   "outputs": [],
   "source": [
    "\n",
    "psychocurve1(rec, pb=0, pa=60,timebin=10, vec='pop')\n",
    "psychocurve2(rec, pb=0, pa=60,timebin=10, vec='pop')\n",
    "psychocurve3(rec, pb=0, pa=60,timebin=10, vec='pop')"
   ]
  },
  {
   "cell_type": "code",
   "execution_count": null,
   "metadata": {
    "scrolled": true
   },
   "outputs": [],
   "source": [
    "psychocurve1(rec, pb=0, pa=200,timebin=10, vec='time')\n",
    "psychocurve2(rec, pb=0, pa=200,timebin=10, vec='time')\n",
    "psychocurve3(rec, pb=0, pa=200,timebin=10, vec='time')"
   ]
  },
  {
   "cell_type": "code",
   "execution_count": null,
   "metadata": {
    "scrolled": true
   },
   "outputs": [],
   "source": [
    "psychocurve1(rec, pb=0, pa=500,timebin=100, vec='time')\n",
    "psychocurve2(rec, pb=0, pa=500,timebin=100, vec='time')\n",
    "psychocurve3(rec, pb=0, pa=500,timebin=100, vec='time')"
   ]
  },
  {
   "cell_type": "code",
   "execution_count": null,
   "metadata": {},
   "outputs": [],
   "source": [
    "psychocurve1(rec, pb=0, pa=200,timebin=10, vec='complete', name='200')\n",
    "psychocurve1(rec, pb=0, pa=100,timebin=10, vec='complete', name='100')\n",
    "psychocurve1(rec, pb=0, pa=80,timebin=10, vec='complete', name='80')\n",
    "psychocurve1(rec, pb=0, pa=60,timebin=10, vec='complete', name='60')\n",
    "\n"
   ]
  },
  {
   "cell_type": "code",
   "execution_count": null,
   "metadata": {},
   "outputs": [],
   "source": [
    "psychocurve1(rec, pb=0, pa=1000,timebin=10, vec='complete', name='1000')\n"
   ]
  },
  {
   "cell_type": "code",
   "execution_count": null,
   "metadata": {
    "scrolled": true
   },
   "outputs": [],
   "source": [
    "psychocurve2(rec, pb=0, pa=1000,timebin=10, vec='complete', name='1000')\n",
    "psychocurve2(rec, pb=0, pa=200,timebin=10, vec='complete', name='200')\n",
    "psychocurve2(rec, pb=0, pa=100,timebin=10, vec='complete', name='100')\n",
    "psychocurve2(rec, pb=0, pa=80,timebin=10, vec='complete', name='80')\n",
    "psychocurve2(rec, pb=0, pa=60,timebin=10, vec='complete', name='60')"
   ]
  },
  {
   "cell_type": "code",
   "execution_count": null,
   "metadata": {
    "scrolled": true
   },
   "outputs": [],
   "source": [
    "psychocurve1(rec, pb=0, pa=200,timebin=10, vec='complete', name='time10')\n",
    "psychocurve1(rec, pb=0, pa=200,timebin=20, vec='complete', name='time20')\n",
    "psychocurve1(rec, pb=0, pa=200,timebin=40, vec='complete', name='time40')\n",
    "psychocurve1(rec, pb=0, pa=200,timebin=100, vec='complete', name='time100')"
   ]
  },
  {
   "cell_type": "code",
   "execution_count": null,
   "metadata": {},
   "outputs": [],
   "source": [
    "psychocurve3(rec, pb=0, pa=200,timebin=10, vec='complete', name='200')\n",
    "psychocurve3(rec, pb=0, pa=100,timebin=10, vec='complete', name='100')\n",
    "psychocurve3(rec, pb=0, pa=80,timebin=10, vec='complete', name='80')\n",
    "psychocurve3(rec, pb=0, pa=60,timebin=10, vec='complete', name='60')"
   ]
  }
 ],
 "metadata": {
  "kernelspec": {
   "display_name": "kaggle",
   "language": "python",
   "name": "kaggle"
  },
  "language_info": {
   "codemirror_mode": {
    "name": "ipython",
    "version": 3
   },
   "file_extension": ".py",
   "mimetype": "text/x-python",
   "name": "python",
   "nbconvert_exporter": "python",
   "pygments_lexer": "ipython3",
   "version": "3.8.8"
  }
 },
 "nbformat": 4,
 "nbformat_minor": 4
}
