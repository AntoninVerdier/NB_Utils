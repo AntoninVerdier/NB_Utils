{
 "cells": [
  {
   "cell_type": "code",
   "execution_count": 14,
   "metadata": {},
   "outputs": [
    {
     "data": {
      "image/png": "[encoded data removed]",
      "text/plain": [
       "<Figure size 432x288 with 1 Axes>"
      ]
     },
     "metadata": {
      "needs_background": "light"
     },
     "output_type": "display_data"
    },
    {
     "name": "stdout",
     "output_type": "stream",
     "text": [
      "2D Gaussian array :\n",
      "\n",
      "[[0.05583301 0.09872308 0.1513786  0.20129285 0.23211877 0.23211877\n",
      "  0.20129285 0.1513786  0.09872308 0.05583301]\n",
      " [0.09872308 0.17456068 0.26766537 0.35592299 0.41042893 0.41042893\n",
      "  0.35592299 0.26766537 0.17456068 0.09872308]\n",
      " [0.1513786  0.26766537 0.41042893 0.54576014 0.62933769 0.62933769\n",
      "  0.54576014 0.41042893 0.26766537 0.1513786 ]\n",
      " [0.20129285 0.35592299 0.54576014 0.72571428 0.83684995 0.83684995\n",
      "  0.72571428 0.54576014 0.35592299 0.20129285]\n",
      " [0.23211877 0.41042893 0.62933769 0.83684995 0.9650049  0.9650049\n",
      "  0.83684995 0.62933769 0.41042893 0.23211877]\n",
      " [0.23211877 0.41042893 0.62933769 0.83684995 0.9650049  0.9650049\n",
      "  0.83684995 0.62933769 0.41042893 0.23211877]\n",
      " [0.20129285 0.35592299 0.54576014 0.72571428 0.83684995 0.83684995\n",
      "  0.72571428 0.54576014 0.35592299 0.20129285]\n",
      " [0.1513786  0.26766537 0.41042893 0.54576014 0.62933769 0.62933769\n",
      "  0.54576014 0.41042893 0.26766537 0.1513786 ]\n",
      " [0.09872308 0.17456068 0.26766537 0.35592299 0.41042893 0.41042893\n",
      "  0.35592299 0.26766537 0.17456068 0.09872308]\n",
      " [0.05583301 0.09872308 0.1513786  0.20129285 0.23211877 0.23211877\n",
      "  0.20129285 0.1513786  0.09872308 0.05583301]]\n"
     ]
    }
   ],
   "source": [
    "import numpy as np\n",
    "import matplotlib.pyplot as plt\n",
    "\n",
    " \n",
    "# Initializing value of x-axis and y-axis\n",
    "# in the range -2 to +2\n",
    "x, y = np.meshgrid(np.linspace(-1,1,10), np.linspace(-1,1,10))\n",
    "dst = np.sqrt(x*x+y*y)\n",
    " \n",
    "# Initializing sigma and muu\n",
    "sigma = np.sqrt(np.log(2)/2)\n",
    "muu = 0.000\n",
    " \n",
    "# Calculating Gaussian array\n",
    "gauss = np.exp(-( (dst-muu)**2 / ( 2.0 * sigma**2 ) ) )\n",
    "plt.imshow(gauss)\n",
    "plt.show()\n",
    "print(\"2D Gaussian array :\\n\")\n",
    "print(gauss)"
   ]
  }
 ],
 "metadata": {
  "kernelspec": {
   "display_name": "kaggle",
   "language": "python",
   "name": "kaggle"
  },
  "language_info": {
   "codemirror_mode": {
    "name": "ipython",
    "version": 3
   },
   "file_extension": ".py",
   "mimetype": "text/x-python",
   "name": "python",
   "nbconvert_exporter": "python",
   "pygments_lexer": "ipython3",
   "version": "3.8.8"
  }
 },
 "nbformat": 4,
 "nbformat_minor": 4
}
